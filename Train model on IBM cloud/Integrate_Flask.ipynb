{
 "cells": [
  {
   "cell_type": "code",
   "execution_count": 11,
   "metadata": {},
   "outputs": [
    {
     "name": "stdout",
     "output_type": "stream",
     "text": [
      " * Serving Flask app \"__main__\" (lazy loading)\n",
      " * Environment: production\n",
      "\u001b[31m   WARNING: This is a development server. Do not use it in a production deployment.\u001b[0m\n",
      "\u001b[2m   Use a production WSGI server instead.\u001b[0m\n",
      " * Debug mode: on\n"
     ]
    },
    {
     "name": "stderr",
     "output_type": "stream",
     "text": [
      " * Restarting with watchdog (windowsapi)\n"
     ]
    },
    {
     "ename": "SystemExit",
     "evalue": "1",
     "output_type": "error",
     "traceback": [
      "An exception has occurred, use %tb to see the full traceback.\n",
      "\u001b[1;31mSystemExit\u001b[0m\u001b[1;31m:\u001b[0m 1\n"
     ]
    },
    {
     "name": "stderr",
     "output_type": "stream",
     "text": [
      "c:\\Users\\S Sruthi\\anaconda3\\lib\\site-packages\\IPython\\core\\interactiveshell.py:3377: UserWarning: To exit: use 'exit', 'quit', or Ctrl-D.\n",
      "  warn(\"To exit: use 'exit', 'quit', or Ctrl-D.\", stacklevel=1)\n"
     ]
    }
   ],
   "source": [
    "import numpy as np\n",
    "from flask import Flask, request, jsonify, render_template\n",
    "import pickle\n",
    "import inputScript \n",
    "import requests\n",
    "from sklearn import *\n",
    "app = Flask(__name__)\n",
    "model = pickle.load(open('Phishing_Website.pkl', 'rb'))\n",
    "\n",
    "API_KEY = \"q_K1mcpkf84GugtafInt0LujObrHOWfpky2l2YsSM0dL\"\n",
    "token_response = requests.post('https://iam.cloud.ibm.com/identity/token', data={\"apikey\":\n",
    "API_KEY, \"grant_type\": 'urn:ibm:params:oauth:grant-type:apikey'})\n",
    "mltoken = token_response.json()[\"access_token\"]\n",
    "header = {'Content-Type': 'application/json', 'Authorization': 'Bearer ' + mltoken}\n",
    "app = Flask(__name__)\n",
    "\n",
    "@app.route(\"/\", methods=[\"GET\", \"POST\"])\n",
    "def index():\n",
    "    if request.method == \"POST\":\n",
    "\n",
    "        url = request.form[\"url\"]\n",
    "        obj = inputScript.main(url)\n",
    "        x = np.array(obj.main()).reshape(1,30) \n",
    "\n",
    "        y_pred =gbc.predict(x)[0]\n",
    "        #1 is safe       \n",
    "        #-1 is unsafe\n",
    "        y_pro_phishing = gbc.predict_proba(x)[0,0]\n",
    "        y_pro_non_phishing = gbc.predict_proba(x)[0,1]\n",
    "        # if(y_pred ==1 ):\n",
    "        pred = \"It is {0:.2f} % safe to go \".format(y_pro_phishing*100)\n",
    "        payload_scoring = {\"input_data\": [{\"field\": [[\"UsingIP\",\"LongURL\",\"ShortURL\",\"Symbol@\",\"Redirecting//\",\"PrefixSuffix-\",\"SubDomains\",\"HTTPS\",\"DomainRegLen\",\"Favicon\",\"NonStdPort\",\"HTTPSDomainURL\",\"RequestURL\",\"AnchorURL\",\"LinksInScriptTags\",\"ServerFormHandler\",\"InfoEmail\",\"AbnormalURL\",\"WebsiteForwarding\",\"StatusBarCust\",\"DisableRightClick\",\"UsingPopupWindow\",\"IframeRedirection\",\"AgeofDomain\",\"DNSRecording\",\"WebsiteTraffic\",\"PageRank\",\"GoogleIndex\",\"LinksPointingToPage\",\"StatsReport\"\n",
    "]], \"values\": [[1,1,1,1,1,-1,-1,-1,-1,1,1,1,1,-1,-1,1,1,1,0,1,1,1,1,-1,-1,-1,-1,1,0,1]]}]}\n",
    "        response_scoring = requests.post('https://us-south.ml.cloud.ibm.com/ml/v4/deployments/004b714f-b450-4313-b4f7-fb1d5698e6c0/predictions?version=2022-11-18', json=payload_scoring,\n",
    "        headers={'Authorization': 'Bearer ' + mltoken})\n",
    "        print(\"Scoring response\")\n",
    "        predictions=response_scoring.json()\n",
    "#print(predictions)\n",
    "        pred=print(predictions['predictions'][0]['values'][0][0])\n",
    "        return render_template('final.html',xx =round(y_pro_non_phishing,2),url=url )\n",
    "    return render_template(\"final.html\", xx =-1)\n",
    "    \n",
    "\n",
    "if __name__ == \"__main__\":\n",
    "    app.run(debug=True,port=\"5000\")"
   ]
  }
 ],
 "metadata": {
  "kernelspec": {
   "display_name": "Python 3.9.12 ('base')",
   "language": "python",
   "name": "python3"
  },
  "language_info": {
   "codemirror_mode": {
    "name": "ipython",
    "version": 3
   },
   "file_extension": ".py",
   "mimetype": "text/x-python",
   "name": "python",
   "nbconvert_exporter": "python",
   "pygments_lexer": "ipython3",
   "version": "3.9.12"
  },
  "orig_nbformat": 4,
  "vscode": {
   "interpreter": {
    "hash": "b7b46987f0491cecbe3b3b56aff5a9adbc3b8ea7d610ae7fa9414ba76687d2bf"
   }
  }
 },
 "nbformat": 4,
 "nbformat_minor": 2
}
