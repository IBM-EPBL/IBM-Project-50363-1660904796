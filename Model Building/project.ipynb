{
  "cells": [
    {
      "cell_type": "markdown",
      "metadata": {
        "id": "A-7pjITV-9lN"
      },
      "source": [
        "## **MODEL BUILDING**\n"
      ]
    },
    {
      "cell_type": "markdown",
      "metadata": {
        "id": "27J-i9Vy_Imu"
      },
      "source": [
        "## **1.Importing Required Libraries**"
      ]
    },
    {
      "cell_type": "code",
      "execution_count": 57,
      "metadata": {
        "id": "wPCM6JwwzK0M"
      },
      "outputs": [],
      "source": [
        "import pandas as pd\n",
        "import numpy as np\n",
        "import keras\n",
        "import pickle\n",
        "import matplotlib.pyplot as plt\n",
        "from sklearn import metrics \n",
        "from sklearn.preprocessing import MinMaxScaler\n",
        "from sklearn.metrics import confusion_matrix,accuracy_score"
      ]
    },
    {
      "cell_type": "markdown",
      "metadata": {
        "id": "YfYt1C2L_SZ-"
      },
      "source": [
        "## **2.Read the dataset**"
      ]
    },
    {
      "cell_type": "code",
      "execution_count": 2,
      "metadata": {
        "id": "M0JvRIXO01d7"
      },
      "outputs": [],
      "source": [
        "ds =pd.read_csv(\"dataset_website.csv\")"
      ]
    },
    {
      "cell_type": "code",
      "execution_count": 3,
      "metadata": {
        "colab": {
          "base_uri": "https://localhost:8080/",
          "height": 299
        },
        "id": "43jITpgX01T_",
        "outputId": "b2c64656-a74f-4ddf-a0c5-86b4da7f138a"
      },
      "outputs": [
        {
          "output_type": "execute_result",
          "data": {
            "text/plain": [
              "   index  having_IPhaving_IP_Address  URLURL_Length  Shortining_Service  \\\n",
              "0      1                          -1              1                   1   \n",
              "1      2                           1              1                   1   \n",
              "2      3                           1              0                   1   \n",
              "3      4                           1              0                   1   \n",
              "4      5                           1              0                  -1   \n",
              "\n",
              "   having_At_Symbol  double_slash_redirecting  Prefix_Suffix  \\\n",
              "0                 1                        -1             -1   \n",
              "1                 1                         1             -1   \n",
              "2                 1                         1             -1   \n",
              "3                 1                         1             -1   \n",
              "4                 1                         1             -1   \n",
              "\n",
              "   having_Sub_Domain  SSLfinal_State  Domain_registeration_length  ...  \\\n",
              "0                 -1              -1                           -1  ...   \n",
              "1                  0               1                           -1  ...   \n",
              "2                 -1              -1                           -1  ...   \n",
              "3                 -1              -1                            1  ...   \n",
              "4                  1               1                           -1  ...   \n",
              "\n",
              "   popUpWidnow  Iframe  age_of_domain  DNSRecord  web_traffic  Page_Rank  \\\n",
              "0            1       1             -1         -1           -1         -1   \n",
              "1            1       1             -1         -1            0         -1   \n",
              "2            1       1              1         -1            1         -1   \n",
              "3            1       1             -1         -1            1         -1   \n",
              "4           -1       1             -1         -1            0         -1   \n",
              "\n",
              "   Google_Index  Links_pointing_to_page  Statistical_report  Result  \n",
              "0             1                       1                  -1      -1  \n",
              "1             1                       1                   1      -1  \n",
              "2             1                       0                  -1      -1  \n",
              "3             1                      -1                   1      -1  \n",
              "4             1                       1                   1       1  \n",
              "\n",
              "[5 rows x 32 columns]"
            ],
            "text/html": [
              "\n",
              "  <div id=\"df-2ff96509-fb4d-453a-a194-fea027c32c9d\">\n",
              "    <div class=\"colab-df-container\">\n",
              "      <div>\n",
              "<style scoped>\n",
              "    .dataframe tbody tr th:only-of-type {\n",
              "        vertical-align: middle;\n",
              "    }\n",
              "\n",
              "    .dataframe tbody tr th {\n",
              "        vertical-align: top;\n",
              "    }\n",
              "\n",
              "    .dataframe thead th {\n",
              "        text-align: right;\n",
              "    }\n",
              "</style>\n",
              "<table border=\"1\" class=\"dataframe\">\n",
              "  <thead>\n",
              "    <tr style=\"text-align: right;\">\n",
              "      <th></th>\n",
              "      <th>index</th>\n",
              "      <th>having_IPhaving_IP_Address</th>\n",
              "      <th>URLURL_Length</th>\n",
              "      <th>Shortining_Service</th>\n",
              "      <th>having_At_Symbol</th>\n",
              "      <th>double_slash_redirecting</th>\n",
              "      <th>Prefix_Suffix</th>\n",
              "      <th>having_Sub_Domain</th>\n",
              "      <th>SSLfinal_State</th>\n",
              "      <th>Domain_registeration_length</th>\n",
              "      <th>...</th>\n",
              "      <th>popUpWidnow</th>\n",
              "      <th>Iframe</th>\n",
              "      <th>age_of_domain</th>\n",
              "      <th>DNSRecord</th>\n",
              "      <th>web_traffic</th>\n",
              "      <th>Page_Rank</th>\n",
              "      <th>Google_Index</th>\n",
              "      <th>Links_pointing_to_page</th>\n",
              "      <th>Statistical_report</th>\n",
              "      <th>Result</th>\n",
              "    </tr>\n",
              "  </thead>\n",
              "  <tbody>\n",
              "    <tr>\n",
              "      <th>0</th>\n",
              "      <td>1</td>\n",
              "      <td>-1</td>\n",
              "      <td>1</td>\n",
              "      <td>1</td>\n",
              "      <td>1</td>\n",
              "      <td>-1</td>\n",
              "      <td>-1</td>\n",
              "      <td>-1</td>\n",
              "      <td>-1</td>\n",
              "      <td>-1</td>\n",
              "      <td>...</td>\n",
              "      <td>1</td>\n",
              "      <td>1</td>\n",
              "      <td>-1</td>\n",
              "      <td>-1</td>\n",
              "      <td>-1</td>\n",
              "      <td>-1</td>\n",
              "      <td>1</td>\n",
              "      <td>1</td>\n",
              "      <td>-1</td>\n",
              "      <td>-1</td>\n",
              "    </tr>\n",
              "    <tr>\n",
              "      <th>1</th>\n",
              "      <td>2</td>\n",
              "      <td>1</td>\n",
              "      <td>1</td>\n",
              "      <td>1</td>\n",
              "      <td>1</td>\n",
              "      <td>1</td>\n",
              "      <td>-1</td>\n",
              "      <td>0</td>\n",
              "      <td>1</td>\n",
              "      <td>-1</td>\n",
              "      <td>...</td>\n",
              "      <td>1</td>\n",
              "      <td>1</td>\n",
              "      <td>-1</td>\n",
              "      <td>-1</td>\n",
              "      <td>0</td>\n",
              "      <td>-1</td>\n",
              "      <td>1</td>\n",
              "      <td>1</td>\n",
              "      <td>1</td>\n",
              "      <td>-1</td>\n",
              "    </tr>\n",
              "    <tr>\n",
              "      <th>2</th>\n",
              "      <td>3</td>\n",
              "      <td>1</td>\n",
              "      <td>0</td>\n",
              "      <td>1</td>\n",
              "      <td>1</td>\n",
              "      <td>1</td>\n",
              "      <td>-1</td>\n",
              "      <td>-1</td>\n",
              "      <td>-1</td>\n",
              "      <td>-1</td>\n",
              "      <td>...</td>\n",
              "      <td>1</td>\n",
              "      <td>1</td>\n",
              "      <td>1</td>\n",
              "      <td>-1</td>\n",
              "      <td>1</td>\n",
              "      <td>-1</td>\n",
              "      <td>1</td>\n",
              "      <td>0</td>\n",
              "      <td>-1</td>\n",
              "      <td>-1</td>\n",
              "    </tr>\n",
              "    <tr>\n",
              "      <th>3</th>\n",
              "      <td>4</td>\n",
              "      <td>1</td>\n",
              "      <td>0</td>\n",
              "      <td>1</td>\n",
              "      <td>1</td>\n",
              "      <td>1</td>\n",
              "      <td>-1</td>\n",
              "      <td>-1</td>\n",
              "      <td>-1</td>\n",
              "      <td>1</td>\n",
              "      <td>...</td>\n",
              "      <td>1</td>\n",
              "      <td>1</td>\n",
              "      <td>-1</td>\n",
              "      <td>-1</td>\n",
              "      <td>1</td>\n",
              "      <td>-1</td>\n",
              "      <td>1</td>\n",
              "      <td>-1</td>\n",
              "      <td>1</td>\n",
              "      <td>-1</td>\n",
              "    </tr>\n",
              "    <tr>\n",
              "      <th>4</th>\n",
              "      <td>5</td>\n",
              "      <td>1</td>\n",
              "      <td>0</td>\n",
              "      <td>-1</td>\n",
              "      <td>1</td>\n",
              "      <td>1</td>\n",
              "      <td>-1</td>\n",
              "      <td>1</td>\n",
              "      <td>1</td>\n",
              "      <td>-1</td>\n",
              "      <td>...</td>\n",
              "      <td>-1</td>\n",
              "      <td>1</td>\n",
              "      <td>-1</td>\n",
              "      <td>-1</td>\n",
              "      <td>0</td>\n",
              "      <td>-1</td>\n",
              "      <td>1</td>\n",
              "      <td>1</td>\n",
              "      <td>1</td>\n",
              "      <td>1</td>\n",
              "    </tr>\n",
              "  </tbody>\n",
              "</table>\n",
              "<p>5 rows × 32 columns</p>\n",
              "</div>\n",
              "      <button class=\"colab-df-convert\" onclick=\"convertToInteractive('df-2ff96509-fb4d-453a-a194-fea027c32c9d')\"\n",
              "              title=\"Convert this dataframe to an interactive table.\"\n",
              "              style=\"display:none;\">\n",
              "        \n",
              "  <svg xmlns=\"http://www.w3.org/2000/svg\" height=\"24px\"viewBox=\"0 0 24 24\"\n",
              "       width=\"24px\">\n",
              "    <path d=\"M0 0h24v24H0V0z\" fill=\"none\"/>\n",
              "    <path d=\"M18.56 5.44l.94 2.06.94-2.06 2.06-.94-2.06-.94-.94-2.06-.94 2.06-2.06.94zm-11 1L8.5 8.5l.94-2.06 2.06-.94-2.06-.94L8.5 2.5l-.94 2.06-2.06.94zm10 10l.94 2.06.94-2.06 2.06-.94-2.06-.94-.94-2.06-.94 2.06-2.06.94z\"/><path d=\"M17.41 7.96l-1.37-1.37c-.4-.4-.92-.59-1.43-.59-.52 0-1.04.2-1.43.59L10.3 9.45l-7.72 7.72c-.78.78-.78 2.05 0 2.83L4 21.41c.39.39.9.59 1.41.59.51 0 1.02-.2 1.41-.59l7.78-7.78 2.81-2.81c.8-.78.8-2.07 0-2.86zM5.41 20L4 18.59l7.72-7.72 1.47 1.35L5.41 20z\"/>\n",
              "  </svg>\n",
              "      </button>\n",
              "      \n",
              "  <style>\n",
              "    .colab-df-container {\n",
              "      display:flex;\n",
              "      flex-wrap:wrap;\n",
              "      gap: 12px;\n",
              "    }\n",
              "\n",
              "    .colab-df-convert {\n",
              "      background-color: #E8F0FE;\n",
              "      border: none;\n",
              "      border-radius: 50%;\n",
              "      cursor: pointer;\n",
              "      display: none;\n",
              "      fill: #1967D2;\n",
              "      height: 32px;\n",
              "      padding: 0 0 0 0;\n",
              "      width: 32px;\n",
              "    }\n",
              "\n",
              "    .colab-df-convert:hover {\n",
              "      background-color: #E2EBFA;\n",
              "      box-shadow: 0px 1px 2px rgba(60, 64, 67, 0.3), 0px 1px 3px 1px rgba(60, 64, 67, 0.15);\n",
              "      fill: #174EA6;\n",
              "    }\n",
              "\n",
              "    [theme=dark] .colab-df-convert {\n",
              "      background-color: #3B4455;\n",
              "      fill: #D2E3FC;\n",
              "    }\n",
              "\n",
              "    [theme=dark] .colab-df-convert:hover {\n",
              "      background-color: #434B5C;\n",
              "      box-shadow: 0px 1px 3px 1px rgba(0, 0, 0, 0.15);\n",
              "      filter: drop-shadow(0px 1px 2px rgba(0, 0, 0, 0.3));\n",
              "      fill: #FFFFFF;\n",
              "    }\n",
              "  </style>\n",
              "\n",
              "      <script>\n",
              "        const buttonEl =\n",
              "          document.querySelector('#df-2ff96509-fb4d-453a-a194-fea027c32c9d button.colab-df-convert');\n",
              "        buttonEl.style.display =\n",
              "          google.colab.kernel.accessAllowed ? 'block' : 'none';\n",
              "\n",
              "        async function convertToInteractive(key) {\n",
              "          const element = document.querySelector('#df-2ff96509-fb4d-453a-a194-fea027c32c9d');\n",
              "          const dataTable =\n",
              "            await google.colab.kernel.invokeFunction('convertToInteractive',\n",
              "                                                     [key], {});\n",
              "          if (!dataTable) return;\n",
              "\n",
              "          const docLinkHtml = 'Like what you see? Visit the ' +\n",
              "            '<a target=\"_blank\" href=https://colab.research.google.com/notebooks/data_table.ipynb>data table notebook</a>'\n",
              "            + ' to learn more about interactive tables.';\n",
              "          element.innerHTML = '';\n",
              "          dataTable['output_type'] = 'display_data';\n",
              "          await google.colab.output.renderOutput(dataTable, element);\n",
              "          const docLink = document.createElement('div');\n",
              "          docLink.innerHTML = docLinkHtml;\n",
              "          element.appendChild(docLink);\n",
              "        }\n",
              "      </script>\n",
              "    </div>\n",
              "  </div>\n",
              "  "
            ]
          },
          "metadata": {},
          "execution_count": 3
        }
      ],
      "source": [
        "ds.head()"
      ]
    },
    {
      "cell_type": "markdown",
      "metadata": {
        "id": "7PeCFDR0_oJu"
      },
      "source": [
        "## **3.Handling null values**"
      ]
    },
    {
      "cell_type": "code",
      "execution_count": 4,
      "metadata": {
        "colab": {
          "base_uri": "https://localhost:8080/"
        },
        "id": "3Q1x6ThZA2dM",
        "outputId": "0e0f48ed-c1a0-40c0-890a-5e7ba15b35ea"
      },
      "outputs": [
        {
          "output_type": "execute_result",
          "data": {
            "text/plain": [
              "(11055, 32)"
            ]
          },
          "metadata": {},
          "execution_count": 4
        }
      ],
      "source": [
        "ds.shape"
      ]
    },
    {
      "cell_type": "code",
      "execution_count": 5,
      "metadata": {
        "colab": {
          "base_uri": "https://localhost:8080/"
        },
        "id": "ZnyxaNXxA5TD",
        "outputId": "dcdf8195-e11a-4081-cdb7-29d51b83b446"
      },
      "outputs": [
        {
          "output_type": "execute_result",
          "data": {
            "text/plain": [
              "Index(['index', 'having_IPhaving_IP_Address', 'URLURL_Length',\n",
              "       'Shortining_Service', 'having_At_Symbol', 'double_slash_redirecting',\n",
              "       'Prefix_Suffix', 'having_Sub_Domain', 'SSLfinal_State',\n",
              "       'Domain_registeration_length', 'Favicon', 'port', 'HTTPS_token',\n",
              "       'Request_URL', 'URL_of_Anchor', 'Links_in_tags', 'SFH',\n",
              "       'Submitting_to_email', 'Abnormal_URL', 'Redirect', 'on_mouseover',\n",
              "       'RightClick', 'popUpWidnow', 'Iframe', 'age_of_domain', 'DNSRecord',\n",
              "       'web_traffic', 'Page_Rank', 'Google_Index', 'Links_pointing_to_page',\n",
              "       'Statistical_report', 'Result'],\n",
              "      dtype='object')"
            ]
          },
          "metadata": {},
          "execution_count": 5
        }
      ],
      "source": [
        "ds.columns"
      ]
    },
    {
      "cell_type": "code",
      "execution_count": 6,
      "metadata": {
        "colab": {
          "base_uri": "https://localhost:8080/"
        },
        "id": "ZBGwGW3V2F8q",
        "outputId": "da1e9dc4-48ec-4b7f-a7a5-c50e10d53fae"
      },
      "outputs": [
        {
          "output_type": "stream",
          "name": "stdout",
          "text": [
            "<class 'pandas.core.frame.DataFrame'>\n",
            "RangeIndex: 11055 entries, 0 to 11054\n",
            "Data columns (total 32 columns):\n",
            " #   Column                       Non-Null Count  Dtype\n",
            "---  ------                       --------------  -----\n",
            " 0   index                        11055 non-null  int64\n",
            " 1   having_IPhaving_IP_Address   11055 non-null  int64\n",
            " 2   URLURL_Length                11055 non-null  int64\n",
            " 3   Shortining_Service           11055 non-null  int64\n",
            " 4   having_At_Symbol             11055 non-null  int64\n",
            " 5   double_slash_redirecting     11055 non-null  int64\n",
            " 6   Prefix_Suffix                11055 non-null  int64\n",
            " 7   having_Sub_Domain            11055 non-null  int64\n",
            " 8   SSLfinal_State               11055 non-null  int64\n",
            " 9   Domain_registeration_length  11055 non-null  int64\n",
            " 10  Favicon                      11055 non-null  int64\n",
            " 11  port                         11055 non-null  int64\n",
            " 12  HTTPS_token                  11055 non-null  int64\n",
            " 13  Request_URL                  11055 non-null  int64\n",
            " 14  URL_of_Anchor                11055 non-null  int64\n",
            " 15  Links_in_tags                11055 non-null  int64\n",
            " 16  SFH                          11055 non-null  int64\n",
            " 17  Submitting_to_email          11055 non-null  int64\n",
            " 18  Abnormal_URL                 11055 non-null  int64\n",
            " 19  Redirect                     11055 non-null  int64\n",
            " 20  on_mouseover                 11055 non-null  int64\n",
            " 21  RightClick                   11055 non-null  int64\n",
            " 22  popUpWidnow                  11055 non-null  int64\n",
            " 23  Iframe                       11055 non-null  int64\n",
            " 24  age_of_domain                11055 non-null  int64\n",
            " 25  DNSRecord                    11055 non-null  int64\n",
            " 26  web_traffic                  11055 non-null  int64\n",
            " 27  Page_Rank                    11055 non-null  int64\n",
            " 28  Google_Index                 11055 non-null  int64\n",
            " 29  Links_pointing_to_page       11055 non-null  int64\n",
            " 30  Statistical_report           11055 non-null  int64\n",
            " 31  Result                       11055 non-null  int64\n",
            "dtypes: int64(32)\n",
            "memory usage: 2.7 MB\n"
          ]
        }
      ],
      "source": [
        "ds.info()"
      ]
    },
    {
      "cell_type": "code",
      "execution_count": 7,
      "metadata": {
        "colab": {
          "base_uri": "https://localhost:8080/"
        },
        "id": "ouf0dvPB01Ol",
        "outputId": "0436b7c9-4922-4a97-a589-2ab59a8ba6b5"
      },
      "outputs": [
        {
          "output_type": "execute_result",
          "data": {
            "text/plain": [
              "index                          False\n",
              "having_IPhaving_IP_Address     False\n",
              "URLURL_Length                  False\n",
              "Shortining_Service             False\n",
              "having_At_Symbol               False\n",
              "double_slash_redirecting       False\n",
              "Prefix_Suffix                  False\n",
              "having_Sub_Domain              False\n",
              "SSLfinal_State                 False\n",
              "Domain_registeration_length    False\n",
              "Favicon                        False\n",
              "port                           False\n",
              "HTTPS_token                    False\n",
              "Request_URL                    False\n",
              "URL_of_Anchor                  False\n",
              "Links_in_tags                  False\n",
              "SFH                            False\n",
              "Submitting_to_email            False\n",
              "Abnormal_URL                   False\n",
              "Redirect                       False\n",
              "on_mouseover                   False\n",
              "RightClick                     False\n",
              "popUpWidnow                    False\n",
              "Iframe                         False\n",
              "age_of_domain                  False\n",
              "DNSRecord                      False\n",
              "web_traffic                    False\n",
              "Page_Rank                      False\n",
              "Google_Index                   False\n",
              "Links_pointing_to_page         False\n",
              "Statistical_report             False\n",
              "Result                         False\n",
              "dtype: bool"
            ]
          },
          "metadata": {},
          "execution_count": 7
        }
      ],
      "source": [
        "ds.isnull().any()"
      ]
    },
    {
      "cell_type": "code",
      "execution_count": 8,
      "metadata": {
        "colab": {
          "base_uri": "https://localhost:8080/",
          "height": 394
        },
        "id": "7deaJNiQ01Kl",
        "outputId": "752ac956-5a63-48ae-8f00-000a49f0b1f3"
      },
      "outputs": [
        {
          "output_type": "execute_result",
          "data": {
            "text/plain": [
              "              index  having_IPhaving_IP_Address  URLURL_Length  \\\n",
              "count  11055.000000                11055.000000   11055.000000   \n",
              "mean    5528.000000                    0.313795      -0.633198   \n",
              "std     3191.447947                    0.949534       0.766095   \n",
              "min        1.000000                   -1.000000      -1.000000   \n",
              "25%     2764.500000                   -1.000000      -1.000000   \n",
              "50%     5528.000000                    1.000000      -1.000000   \n",
              "75%     8291.500000                    1.000000      -1.000000   \n",
              "max    11055.000000                    1.000000       1.000000   \n",
              "\n",
              "       Shortining_Service  having_At_Symbol  double_slash_redirecting  \\\n",
              "count        11055.000000      11055.000000              11055.000000   \n",
              "mean             0.738761          0.700588                  0.741474   \n",
              "std              0.673998          0.713598                  0.671011   \n",
              "min             -1.000000         -1.000000                 -1.000000   \n",
              "25%              1.000000          1.000000                  1.000000   \n",
              "50%              1.000000          1.000000                  1.000000   \n",
              "75%              1.000000          1.000000                  1.000000   \n",
              "max              1.000000          1.000000                  1.000000   \n",
              "\n",
              "       Prefix_Suffix  having_Sub_Domain  SSLfinal_State  \\\n",
              "count   11055.000000       11055.000000    11055.000000   \n",
              "mean       -0.734962           0.063953        0.250927   \n",
              "std         0.678139           0.817518        0.911892   \n",
              "min        -1.000000          -1.000000       -1.000000   \n",
              "25%        -1.000000          -1.000000       -1.000000   \n",
              "50%        -1.000000           0.000000        1.000000   \n",
              "75%        -1.000000           1.000000        1.000000   \n",
              "max         1.000000           1.000000        1.000000   \n",
              "\n",
              "       Domain_registeration_length  ...   popUpWidnow        Iframe  \\\n",
              "count                 11055.000000  ...  11055.000000  11055.000000   \n",
              "mean                     -0.336771  ...      0.613388      0.816915   \n",
              "std                       0.941629  ...      0.789818      0.576784   \n",
              "min                      -1.000000  ...     -1.000000     -1.000000   \n",
              "25%                      -1.000000  ...      1.000000      1.000000   \n",
              "50%                      -1.000000  ...      1.000000      1.000000   \n",
              "75%                       1.000000  ...      1.000000      1.000000   \n",
              "max                       1.000000  ...      1.000000      1.000000   \n",
              "\n",
              "       age_of_domain     DNSRecord   web_traffic     Page_Rank  Google_Index  \\\n",
              "count   11055.000000  11055.000000  11055.000000  11055.000000  11055.000000   \n",
              "mean        0.061239      0.377114      0.287291     -0.483673      0.721574   \n",
              "std         0.998168      0.926209      0.827733      0.875289      0.692369   \n",
              "min        -1.000000     -1.000000     -1.000000     -1.000000     -1.000000   \n",
              "25%        -1.000000     -1.000000      0.000000     -1.000000      1.000000   \n",
              "50%         1.000000      1.000000      1.000000     -1.000000      1.000000   \n",
              "75%         1.000000      1.000000      1.000000      1.000000      1.000000   \n",
              "max         1.000000      1.000000      1.000000      1.000000      1.000000   \n",
              "\n",
              "       Links_pointing_to_page  Statistical_report        Result  \n",
              "count            11055.000000        11055.000000  11055.000000  \n",
              "mean                 0.344007            0.719584      0.113885  \n",
              "std                  0.569944            0.694437      0.993539  \n",
              "min                 -1.000000           -1.000000     -1.000000  \n",
              "25%                  0.000000            1.000000     -1.000000  \n",
              "50%                  0.000000            1.000000      1.000000  \n",
              "75%                  1.000000            1.000000      1.000000  \n",
              "max                  1.000000            1.000000      1.000000  \n",
              "\n",
              "[8 rows x 32 columns]"
            ],
            "text/html": [
              "\n",
              "  <div id=\"df-d6c00a90-cef1-476e-9ae3-dc4cc3db7326\">\n",
              "    <div class=\"colab-df-container\">\n",
              "      <div>\n",
              "<style scoped>\n",
              "    .dataframe tbody tr th:only-of-type {\n",
              "        vertical-align: middle;\n",
              "    }\n",
              "\n",
              "    .dataframe tbody tr th {\n",
              "        vertical-align: top;\n",
              "    }\n",
              "\n",
              "    .dataframe thead th {\n",
              "        text-align: right;\n",
              "    }\n",
              "</style>\n",
              "<table border=\"1\" class=\"dataframe\">\n",
              "  <thead>\n",
              "    <tr style=\"text-align: right;\">\n",
              "      <th></th>\n",
              "      <th>index</th>\n",
              "      <th>having_IPhaving_IP_Address</th>\n",
              "      <th>URLURL_Length</th>\n",
              "      <th>Shortining_Service</th>\n",
              "      <th>having_At_Symbol</th>\n",
              "      <th>double_slash_redirecting</th>\n",
              "      <th>Prefix_Suffix</th>\n",
              "      <th>having_Sub_Domain</th>\n",
              "      <th>SSLfinal_State</th>\n",
              "      <th>Domain_registeration_length</th>\n",
              "      <th>...</th>\n",
              "      <th>popUpWidnow</th>\n",
              "      <th>Iframe</th>\n",
              "      <th>age_of_domain</th>\n",
              "      <th>DNSRecord</th>\n",
              "      <th>web_traffic</th>\n",
              "      <th>Page_Rank</th>\n",
              "      <th>Google_Index</th>\n",
              "      <th>Links_pointing_to_page</th>\n",
              "      <th>Statistical_report</th>\n",
              "      <th>Result</th>\n",
              "    </tr>\n",
              "  </thead>\n",
              "  <tbody>\n",
              "    <tr>\n",
              "      <th>count</th>\n",
              "      <td>11055.000000</td>\n",
              "      <td>11055.000000</td>\n",
              "      <td>11055.000000</td>\n",
              "      <td>11055.000000</td>\n",
              "      <td>11055.000000</td>\n",
              "      <td>11055.000000</td>\n",
              "      <td>11055.000000</td>\n",
              "      <td>11055.000000</td>\n",
              "      <td>11055.000000</td>\n",
              "      <td>11055.000000</td>\n",
              "      <td>...</td>\n",
              "      <td>11055.000000</td>\n",
              "      <td>11055.000000</td>\n",
              "      <td>11055.000000</td>\n",
              "      <td>11055.000000</td>\n",
              "      <td>11055.000000</td>\n",
              "      <td>11055.000000</td>\n",
              "      <td>11055.000000</td>\n",
              "      <td>11055.000000</td>\n",
              "      <td>11055.000000</td>\n",
              "      <td>11055.000000</td>\n",
              "    </tr>\n",
              "    <tr>\n",
              "      <th>mean</th>\n",
              "      <td>5528.000000</td>\n",
              "      <td>0.313795</td>\n",
              "      <td>-0.633198</td>\n",
              "      <td>0.738761</td>\n",
              "      <td>0.700588</td>\n",
              "      <td>0.741474</td>\n",
              "      <td>-0.734962</td>\n",
              "      <td>0.063953</td>\n",
              "      <td>0.250927</td>\n",
              "      <td>-0.336771</td>\n",
              "      <td>...</td>\n",
              "      <td>0.613388</td>\n",
              "      <td>0.816915</td>\n",
              "      <td>0.061239</td>\n",
              "      <td>0.377114</td>\n",
              "      <td>0.287291</td>\n",
              "      <td>-0.483673</td>\n",
              "      <td>0.721574</td>\n",
              "      <td>0.344007</td>\n",
              "      <td>0.719584</td>\n",
              "      <td>0.113885</td>\n",
              "    </tr>\n",
              "    <tr>\n",
              "      <th>std</th>\n",
              "      <td>3191.447947</td>\n",
              "      <td>0.949534</td>\n",
              "      <td>0.766095</td>\n",
              "      <td>0.673998</td>\n",
              "      <td>0.713598</td>\n",
              "      <td>0.671011</td>\n",
              "      <td>0.678139</td>\n",
              "      <td>0.817518</td>\n",
              "      <td>0.911892</td>\n",
              "      <td>0.941629</td>\n",
              "      <td>...</td>\n",
              "      <td>0.789818</td>\n",
              "      <td>0.576784</td>\n",
              "      <td>0.998168</td>\n",
              "      <td>0.926209</td>\n",
              "      <td>0.827733</td>\n",
              "      <td>0.875289</td>\n",
              "      <td>0.692369</td>\n",
              "      <td>0.569944</td>\n",
              "      <td>0.694437</td>\n",
              "      <td>0.993539</td>\n",
              "    </tr>\n",
              "    <tr>\n",
              "      <th>min</th>\n",
              "      <td>1.000000</td>\n",
              "      <td>-1.000000</td>\n",
              "      <td>-1.000000</td>\n",
              "      <td>-1.000000</td>\n",
              "      <td>-1.000000</td>\n",
              "      <td>-1.000000</td>\n",
              "      <td>-1.000000</td>\n",
              "      <td>-1.000000</td>\n",
              "      <td>-1.000000</td>\n",
              "      <td>-1.000000</td>\n",
              "      <td>...</td>\n",
              "      <td>-1.000000</td>\n",
              "      <td>-1.000000</td>\n",
              "      <td>-1.000000</td>\n",
              "      <td>-1.000000</td>\n",
              "      <td>-1.000000</td>\n",
              "      <td>-1.000000</td>\n",
              "      <td>-1.000000</td>\n",
              "      <td>-1.000000</td>\n",
              "      <td>-1.000000</td>\n",
              "      <td>-1.000000</td>\n",
              "    </tr>\n",
              "    <tr>\n",
              "      <th>25%</th>\n",
              "      <td>2764.500000</td>\n",
              "      <td>-1.000000</td>\n",
              "      <td>-1.000000</td>\n",
              "      <td>1.000000</td>\n",
              "      <td>1.000000</td>\n",
              "      <td>1.000000</td>\n",
              "      <td>-1.000000</td>\n",
              "      <td>-1.000000</td>\n",
              "      <td>-1.000000</td>\n",
              "      <td>-1.000000</td>\n",
              "      <td>...</td>\n",
              "      <td>1.000000</td>\n",
              "      <td>1.000000</td>\n",
              "      <td>-1.000000</td>\n",
              "      <td>-1.000000</td>\n",
              "      <td>0.000000</td>\n",
              "      <td>-1.000000</td>\n",
              "      <td>1.000000</td>\n",
              "      <td>0.000000</td>\n",
              "      <td>1.000000</td>\n",
              "      <td>-1.000000</td>\n",
              "    </tr>\n",
              "    <tr>\n",
              "      <th>50%</th>\n",
              "      <td>5528.000000</td>\n",
              "      <td>1.000000</td>\n",
              "      <td>-1.000000</td>\n",
              "      <td>1.000000</td>\n",
              "      <td>1.000000</td>\n",
              "      <td>1.000000</td>\n",
              "      <td>-1.000000</td>\n",
              "      <td>0.000000</td>\n",
              "      <td>1.000000</td>\n",
              "      <td>-1.000000</td>\n",
              "      <td>...</td>\n",
              "      <td>1.000000</td>\n",
              "      <td>1.000000</td>\n",
              "      <td>1.000000</td>\n",
              "      <td>1.000000</td>\n",
              "      <td>1.000000</td>\n",
              "      <td>-1.000000</td>\n",
              "      <td>1.000000</td>\n",
              "      <td>0.000000</td>\n",
              "      <td>1.000000</td>\n",
              "      <td>1.000000</td>\n",
              "    </tr>\n",
              "    <tr>\n",
              "      <th>75%</th>\n",
              "      <td>8291.500000</td>\n",
              "      <td>1.000000</td>\n",
              "      <td>-1.000000</td>\n",
              "      <td>1.000000</td>\n",
              "      <td>1.000000</td>\n",
              "      <td>1.000000</td>\n",
              "      <td>-1.000000</td>\n",
              "      <td>1.000000</td>\n",
              "      <td>1.000000</td>\n",
              "      <td>1.000000</td>\n",
              "      <td>...</td>\n",
              "      <td>1.000000</td>\n",
              "      <td>1.000000</td>\n",
              "      <td>1.000000</td>\n",
              "      <td>1.000000</td>\n",
              "      <td>1.000000</td>\n",
              "      <td>1.000000</td>\n",
              "      <td>1.000000</td>\n",
              "      <td>1.000000</td>\n",
              "      <td>1.000000</td>\n",
              "      <td>1.000000</td>\n",
              "    </tr>\n",
              "    <tr>\n",
              "      <th>max</th>\n",
              "      <td>11055.000000</td>\n",
              "      <td>1.000000</td>\n",
              "      <td>1.000000</td>\n",
              "      <td>1.000000</td>\n",
              "      <td>1.000000</td>\n",
              "      <td>1.000000</td>\n",
              "      <td>1.000000</td>\n",
              "      <td>1.000000</td>\n",
              "      <td>1.000000</td>\n",
              "      <td>1.000000</td>\n",
              "      <td>...</td>\n",
              "      <td>1.000000</td>\n",
              "      <td>1.000000</td>\n",
              "      <td>1.000000</td>\n",
              "      <td>1.000000</td>\n",
              "      <td>1.000000</td>\n",
              "      <td>1.000000</td>\n",
              "      <td>1.000000</td>\n",
              "      <td>1.000000</td>\n",
              "      <td>1.000000</td>\n",
              "      <td>1.000000</td>\n",
              "    </tr>\n",
              "  </tbody>\n",
              "</table>\n",
              "<p>8 rows × 32 columns</p>\n",
              "</div>\n",
              "      <button class=\"colab-df-convert\" onclick=\"convertToInteractive('df-d6c00a90-cef1-476e-9ae3-dc4cc3db7326')\"\n",
              "              title=\"Convert this dataframe to an interactive table.\"\n",
              "              style=\"display:none;\">\n",
              "        \n",
              "  <svg xmlns=\"http://www.w3.org/2000/svg\" height=\"24px\"viewBox=\"0 0 24 24\"\n",
              "       width=\"24px\">\n",
              "    <path d=\"M0 0h24v24H0V0z\" fill=\"none\"/>\n",
              "    <path d=\"M18.56 5.44l.94 2.06.94-2.06 2.06-.94-2.06-.94-.94-2.06-.94 2.06-2.06.94zm-11 1L8.5 8.5l.94-2.06 2.06-.94-2.06-.94L8.5 2.5l-.94 2.06-2.06.94zm10 10l.94 2.06.94-2.06 2.06-.94-2.06-.94-.94-2.06-.94 2.06-2.06.94z\"/><path d=\"M17.41 7.96l-1.37-1.37c-.4-.4-.92-.59-1.43-.59-.52 0-1.04.2-1.43.59L10.3 9.45l-7.72 7.72c-.78.78-.78 2.05 0 2.83L4 21.41c.39.39.9.59 1.41.59.51 0 1.02-.2 1.41-.59l7.78-7.78 2.81-2.81c.8-.78.8-2.07 0-2.86zM5.41 20L4 18.59l7.72-7.72 1.47 1.35L5.41 20z\"/>\n",
              "  </svg>\n",
              "      </button>\n",
              "      \n",
              "  <style>\n",
              "    .colab-df-container {\n",
              "      display:flex;\n",
              "      flex-wrap:wrap;\n",
              "      gap: 12px;\n",
              "    }\n",
              "\n",
              "    .colab-df-convert {\n",
              "      background-color: #E8F0FE;\n",
              "      border: none;\n",
              "      border-radius: 50%;\n",
              "      cursor: pointer;\n",
              "      display: none;\n",
              "      fill: #1967D2;\n",
              "      height: 32px;\n",
              "      padding: 0 0 0 0;\n",
              "      width: 32px;\n",
              "    }\n",
              "\n",
              "    .colab-df-convert:hover {\n",
              "      background-color: #E2EBFA;\n",
              "      box-shadow: 0px 1px 2px rgba(60, 64, 67, 0.3), 0px 1px 3px 1px rgba(60, 64, 67, 0.15);\n",
              "      fill: #174EA6;\n",
              "    }\n",
              "\n",
              "    [theme=dark] .colab-df-convert {\n",
              "      background-color: #3B4455;\n",
              "      fill: #D2E3FC;\n",
              "    }\n",
              "\n",
              "    [theme=dark] .colab-df-convert:hover {\n",
              "      background-color: #434B5C;\n",
              "      box-shadow: 0px 1px 3px 1px rgba(0, 0, 0, 0.15);\n",
              "      filter: drop-shadow(0px 1px 2px rgba(0, 0, 0, 0.3));\n",
              "      fill: #FFFFFF;\n",
              "    }\n",
              "  </style>\n",
              "\n",
              "      <script>\n",
              "        const buttonEl =\n",
              "          document.querySelector('#df-d6c00a90-cef1-476e-9ae3-dc4cc3db7326 button.colab-df-convert');\n",
              "        buttonEl.style.display =\n",
              "          google.colab.kernel.accessAllowed ? 'block' : 'none';\n",
              "\n",
              "        async function convertToInteractive(key) {\n",
              "          const element = document.querySelector('#df-d6c00a90-cef1-476e-9ae3-dc4cc3db7326');\n",
              "          const dataTable =\n",
              "            await google.colab.kernel.invokeFunction('convertToInteractive',\n",
              "                                                     [key], {});\n",
              "          if (!dataTable) return;\n",
              "\n",
              "          const docLinkHtml = 'Like what you see? Visit the ' +\n",
              "            '<a target=\"_blank\" href=https://colab.research.google.com/notebooks/data_table.ipynb>data table notebook</a>'\n",
              "            + ' to learn more about interactive tables.';\n",
              "          element.innerHTML = '';\n",
              "          dataTable['output_type'] = 'display_data';\n",
              "          await google.colab.output.renderOutput(dataTable, element);\n",
              "          const docLink = document.createElement('div');\n",
              "          docLink.innerHTML = docLinkHtml;\n",
              "          element.appendChild(docLink);\n",
              "        }\n",
              "      </script>\n",
              "    </div>\n",
              "  </div>\n",
              "  "
            ]
          },
          "metadata": {},
          "execution_count": 8
        }
      ],
      "source": [
        "ds.describe()"
      ]
    },
    {
      "cell_type": "markdown",
      "metadata": {
        "id": "yaNJ--q5_dFI"
      },
      "source": [
        "## **4.Splitting the Data**"
      ]
    },
    {
      "cell_type": "code",
      "execution_count": 9,
      "metadata": {
        "colab": {
          "base_uri": "https://localhost:8080/"
        },
        "id": "NQ17rjHsBluD",
        "outputId": "c0fe9ea5-06e6-4618-b654-967cc2375955"
      },
      "outputs": [
        {
          "output_type": "execute_result",
          "data": {
            "text/plain": [
              "((11055, 31), (11055,))"
            ]
          },
          "metadata": {},
          "execution_count": 9
        }
      ],
      "source": [
        "y = ds['Result']\n",
        "X = ds.drop('Result',axis=1)\n",
        "X.shape, y.shape"
      ]
    },
    {
      "cell_type": "code",
      "execution_count": 10,
      "metadata": {
        "colab": {
          "base_uri": "https://localhost:8080/"
        },
        "id": "NpupWANT01Gy",
        "outputId": "935ebf45-e863-4889-ca28-f9b3c0fd4094"
      },
      "outputs": [
        {
          "output_type": "stream",
          "name": "stdout",
          "text": [
            "[[-1  1  1 ...  1  1 -1]\n",
            " [ 1  1  1 ...  1  1  1]\n",
            " [ 1  0  1 ...  1  0 -1]\n",
            " ...\n",
            " [ 1 -1  1 ...  1  0  1]\n",
            " [-1 -1  1 ...  1  1  1]\n",
            " [-1 -1  1 ... -1  1 -1]] [-1 -1 -1 ... -1 -1 -1]\n"
          ]
        }
      ],
      "source": [
        "x=ds.iloc[:,1:31].values\n",
        "y=ds.iloc[:,-1].values\n",
        "print(x,y)"
      ]
    },
    {
      "cell_type": "markdown",
      "metadata": {
        "id": "av7Lbb-Gn0L5"
      },
      "source": [
        "### **5.ML Model Training**"
      ]
    },
    {
      "cell_type": "code",
      "source": [
        "Model=[]\n",
        "train=[]\n",
        "test=[]\n",
        "f1_score = []\n",
        "recall = []\n",
        "precision = []\n",
        "def Result(model,a,b,c,d,e):\n",
        "  Model.append(model)\n",
        "  train.append(round(a,7))\n",
        "  test.append(round(b,7))\n",
        "  f1_score.append(round(c, 7))\n",
        "  recall.append(round(d, 7))\n",
        "  precision.append(round(e, 7))\n",
        "  "
      ],
      "metadata": {
        "id": "p_meljoZAbXS"
      },
      "execution_count": 93,
      "outputs": []
    },
    {
      "cell_type": "code",
      "execution_count": 124,
      "metadata": {
        "id": "uUEh9mcPoBJ4"
      },
      "outputs": [],
      "source": [
        "from sklearn.model_selection import train_test_split\n",
        "x_train,x_test,y_train,y_test=train_test_split(x,y,test_size=0.1,random_state=0)"
      ]
    },
    {
      "cell_type": "code",
      "execution_count": 125,
      "metadata": {
        "colab": {
          "base_uri": "https://localhost:8080/"
        },
        "id": "SmCD6-HymF9_",
        "outputId": "77300ff6-4b82-4a85-b908-3f1a282e0498"
      },
      "outputs": [
        {
          "output_type": "execute_result",
          "data": {
            "text/plain": [
              "array([[ 1,  1,  1, ...,  1,  0,  1],\n",
              "       [ 1, -1,  1, ...,  1,  0,  1],\n",
              "       [ 1, -1,  1, ...,  1,  0,  1],\n",
              "       ...,\n",
              "       [-1,  1,  1, ...,  1,  1,  1],\n",
              "       [-1, -1,  1, ...,  1,  1,  1],\n",
              "       [ 1, -1,  1, ...,  1,  1,  1]])"
            ]
          },
          "metadata": {},
          "execution_count": 125
        }
      ],
      "source": [
        "x_train"
      ]
    },
    {
      "cell_type": "markdown",
      "metadata": {
        "id": "UC5XdI8foyj-"
      },
      "source": [
        "### **Logistic Regression**\n",
        "\n"
      ]
    },
    {
      "cell_type": "code",
      "execution_count": 126,
      "metadata": {
        "colab": {
          "base_uri": "https://localhost:8080/"
        },
        "id": "uqTJiYEAoA6O",
        "outputId": "7ddb5c53-bcdb-48a5-c069-1b26aee6b539"
      },
      "outputs": [
        {
          "output_type": "execute_result",
          "data": {
            "text/plain": [
              "LogisticRegression()"
            ]
          },
          "metadata": {},
          "execution_count": 126
        }
      ],
      "source": [
        "from sklearn.linear_model import LogisticRegression\n",
        "lr=LogisticRegression()\n",
        "lr.fit(x_train,y_train)"
      ]
    },
    {
      "cell_type": "code",
      "execution_count": 127,
      "metadata": {
        "id": "0xgI1W01oApR"
      },
      "outputs": [],
      "source": [
        "y_test_lr = lr.predict(x_test)\n",
        "y_train_lr = lr.predict(x_train)"
      ]
    },
    {
      "cell_type": "code",
      "execution_count": 128,
      "metadata": {
        "colab": {
          "base_uri": "https://localhost:8080/"
        },
        "id": "8mrLkx_ypp4I",
        "outputId": "2385180a-9a96-488c-9e36-e1b008b95a23"
      },
      "outputs": [
        {
          "output_type": "stream",
          "name": "stdout",
          "text": [
            "Accuracy on training Data: 93.06\n",
            "Accuracy on test Data: 90.96\n",
            "Logistic Regression : f1_score on training Data: 0.939\n",
            "Logistic Regression : f1_score on test Data: 0.918\n",
            "\n",
            "Logistic Regression : Recall on training Data: 0.948\n",
            "Logistic Regression : Recall on test Data: 0.939\n",
            "\n",
            "Logistic Regression : precision on training Data: 0.930\n",
            "Logistic Regression : precision on test Data: 0.897\n"
          ]
        }
      ],
      "source": [
        "acc_train_lr = accuracy_score(y_train,y_train_lr) *100\n",
        "acc_test_lr = accuracy_score(y_test,y_test_lr)*100\n",
        "\n",
        "print(\"Accuracy on training Data: {:.2f}\".format(acc_train_lr))\n",
        "print(\"Accuracy on test Data: {:.2f}\".format(acc_test_lr))\n",
        "\n",
        "f1_score_train_log = metrics.f1_score(y_train,y_train_lr)\n",
        "f1_score_test_log = metrics.f1_score(y_test,y_test_lr)\n",
        "print(\"Logistic Regression : f1_score on training Data: {:.3f}\".format(f1_score_train_log))\n",
        "print(\"Logistic Regression : f1_score on test Data: {:.3f}\".format(f1_score_test_log))\n",
        "print()\n",
        "\n",
        "recall_score_train_log = metrics.recall_score(y_train,y_train_lr)\n",
        "recall_score_test_log = metrics.recall_score(y_test,y_test_lr)\n",
        "print(\"Logistic Regression : Recall on training Data: {:.3f}\".format(recall_score_train_log))\n",
        "print(\"Logistic Regression : Recall on test Data: {:.3f}\".format(recall_score_test_log))\n",
        "print()\n",
        "\n",
        "precision_score_train_log = metrics.precision_score(y_train,y_train_lr)\n",
        "precision_score_test_log = metrics.precision_score(y_test,y_test_lr)\n",
        "print(\"Logistic Regression : precision on training Data: {:.3f}\".format(precision_score_train_log))\n",
        "print(\"Logistic Regression : precision on test Data: {:.3f}\".format(precision_score_test_log))\n",
        "\n",
        "Result(\"Logistic Regression\",acc_train_lr,acc_test_lr,f1_score_test_log,\n",
        "             recall_score_train_log,precision_score_train_log)"
      ]
    },
    {
      "cell_type": "code",
      "source": [
        "print(metrics.classification_report(y_test, y_test_lr))"
      ],
      "metadata": {
        "colab": {
          "base_uri": "https://localhost:8080/"
        },
        "id": "AVrnF4tO3RSy",
        "outputId": "e570b179-c8c5-4a37-965b-a317b2477592"
      },
      "execution_count": 129,
      "outputs": [
        {
          "output_type": "stream",
          "name": "stdout",
          "text": [
            "              precision    recall  f1-score   support\n",
            "\n",
            "          -1       0.93      0.88      0.90       513\n",
            "           1       0.90      0.94      0.92       593\n",
            "\n",
            "    accuracy                           0.91      1106\n",
            "   macro avg       0.91      0.91      0.91      1106\n",
            "weighted avg       0.91      0.91      0.91      1106\n",
            "\n"
          ]
        }
      ]
    },
    {
      "cell_type": "markdown",
      "metadata": {
        "id": "OmelDaXrn_KD"
      },
      "source": [
        "### **Random Forest**"
      ]
    },
    {
      "cell_type": "code",
      "execution_count": 130,
      "metadata": {
        "colab": {
          "base_uri": "https://localhost:8080/"
        },
        "id": "OFpjug7Bp_Wr",
        "outputId": "8e6de5e9-b186-4b76-a86f-72849763499b"
      },
      "outputs": [
        {
          "output_type": "execute_result",
          "data": {
            "text/plain": [
              "RandomForestClassifier()"
            ]
          },
          "metadata": {},
          "execution_count": 130
        }
      ],
      "source": [
        "from sklearn.ensemble import RandomForestClassifier\n",
        "rf= RandomForestClassifier()\n",
        "rf.fit(x_train,y_train)"
      ]
    },
    {
      "cell_type": "code",
      "execution_count": 131,
      "metadata": {
        "id": "S-j4QLf3qY82"
      },
      "outputs": [],
      "source": [
        "y_test_rf = rf.predict(x_test)\n",
        "y_train_rf = rf.predict(x_train)"
      ]
    },
    {
      "cell_type": "code",
      "execution_count": 132,
      "metadata": {
        "colab": {
          "base_uri": "https://localhost:8080/"
        },
        "id": "yc5XRL3Iqiy9",
        "outputId": "935c4a16-53d0-4c4a-94c9-d0d3a503251f"
      },
      "outputs": [
        {
          "output_type": "stream",
          "name": "stdout",
          "text": [
            "Accuracy on training Data: 99.01\n",
            "Accuracy on test Data: 96.84\n",
            "Random Forest: f1_score on training Data: 0.991\n",
            "Random Forest : f1_score on test Data: 0.971\n",
            "\n",
            "Random Forest : Recall on training Data: 0.995\n",
            "Random Forest : Recall on test Data: 0.990\n",
            "\n",
            "Random Forest: precision on training Data: 0.988\n",
            "Random Forest : precision on test Data: 0.953\n"
          ]
        }
      ],
      "source": [
        "acc_train_rf = accuracy_score(y_train,y_train_rf)*100\n",
        "acc_test_rf = accuracy_score(y_test,y_test_rf)*100\n",
        "\n",
        "print(\"Accuracy on training Data: {:.2f}\".format(acc_train_rf))\n",
        "print(\"Accuracy on test Data: {:.2f}\".format(acc_test_rf))\n",
        "\n",
        "f1_score_train_log = metrics.f1_score(y_train,y_train_rf)\n",
        "f1_score_test_log = metrics.f1_score(y_test,y_test_rf)\n",
        "print(\"Random Forest: f1_score on training Data: {:.3f}\".format(f1_score_train_log))\n",
        "print(\"Random Forest : f1_score on test Data: {:.3f}\".format(f1_score_test_log))\n",
        "print()\n",
        "\n",
        "recall_score_train_log = metrics.recall_score(y_train,y_train_rf)\n",
        "recall_score_test_log = metrics.recall_score(y_test,y_test_rf)\n",
        "print(\"Random Forest : Recall on training Data: {:.3f}\".format(recall_score_train_log))\n",
        "print(\"Random Forest : Recall on test Data: {:.3f}\".format(recall_score_test_log))\n",
        "print()\n",
        "\n",
        "precision_score_train_log = metrics.precision_score(y_train,y_train_rf)\n",
        "precision_score_test_log = metrics.precision_score(y_test,y_test_rf)\n",
        "print(\"Random Forest: precision on training Data: {:.3f}\".format(precision_score_train_log))\n",
        "print(\"Random Forest : precision on test Data: {:.3f}\".format(precision_score_test_log))\n",
        "\n",
        "\n",
        "Result('RandomForestClassifier',acc_train_rf,acc_test_rf,f1_score_test_log,\n",
        "             recall_score_train_log,precision_score_train_log)"
      ]
    },
    {
      "cell_type": "code",
      "source": [
        "print(metrics.classification_report(y_test, y_test_rf))"
      ],
      "metadata": {
        "colab": {
          "base_uri": "https://localhost:8080/"
        },
        "id": "3Y48PYXIpM-H",
        "outputId": "9693cb53-b639-4e0d-e101-589e3d025c28"
      },
      "execution_count": 135,
      "outputs": [
        {
          "output_type": "stream",
          "name": "stdout",
          "text": [
            "              precision    recall  f1-score   support\n",
            "\n",
            "          -1       0.99      0.94      0.97       513\n",
            "           1       0.95      0.99      0.97       593\n",
            "\n",
            "    accuracy                           0.97      1106\n",
            "   macro avg       0.97      0.97      0.97      1106\n",
            "weighted avg       0.97      0.97      0.97      1106\n",
            "\n"
          ]
        }
      ]
    },
    {
      "cell_type": "markdown",
      "source": [
        "### KNN"
      ],
      "metadata": {
        "id": "s4y4LVgVu0QY"
      }
    },
    {
      "cell_type": "code",
      "source": [
        "from sklearn.neighbors import KNeighborsClassifier\n",
        "knn = KNeighborsClassifier(n_neighbors=1)\n",
        "knn.fit(x_train,y_train)"
      ],
      "metadata": {
        "colab": {
          "base_uri": "https://localhost:8080/"
        },
        "id": "HqtweobduCdf",
        "outputId": "641d169a-5347-4add-8a0b-870abfa0d73f"
      },
      "execution_count": 136,
      "outputs": [
        {
          "output_type": "execute_result",
          "data": {
            "text/plain": [
              "KNeighborsClassifier(n_neighbors=1)"
            ]
          },
          "metadata": {},
          "execution_count": 136
        }
      ]
    },
    {
      "cell_type": "code",
      "source": [
        "y_train_knn = knn.predict(x_train)\n",
        "y_test_knn = knn.predict(x_test)"
      ],
      "metadata": {
        "id": "Pq_5sfpGuCgR"
      },
      "execution_count": 137,
      "outputs": []
    },
    {
      "cell_type": "code",
      "source": [
        "acc_train_knn = metrics.accuracy_score(y_train,y_train_knn)\n",
        "acc_test_knn = metrics.accuracy_score(y_test,y_test_knn)\n",
        "print(\"K-Nearest Neighbors : Accuracy on training Data: {:.3f}\".format(acc_train_knn))\n",
        "print(\"K-Nearest Neighbors : Accuracy on test Data: {:.3f}\".format(acc_test_knn))\n",
        "print()\n",
        "\n",
        "f1_score_train_knn = metrics.f1_score(y_train,y_train_knn)\n",
        "f1_score_test_knn = metrics.f1_score(y_test,y_test_knn)\n",
        "print(\"K-Nearest Neighbors : f1_score on training Data: {:.3f}\".format(f1_score_train_knn))\n",
        "print(\"K-Nearest Neighbors : f1_score on test Data: {:.3f}\".format(f1_score_test_knn))\n",
        "print()\n",
        "\n",
        "recall_score_train_knn = metrics.recall_score(y_train,y_train_knn)\n",
        "recall_score_test_knn = metrics.recall_score(y_test,y_test_knn)\n",
        "print(\"K-Nearest Neighbors : Recall on training Data: {:.3f}\".format(recall_score_train_knn))\n",
        "print(\"K-Nearest Neighbors : Recall on test Data: {:.3f}\".format(recall_score_test_knn))\n",
        "print()\n",
        "\n",
        "precision_score_train_knn = metrics.precision_score(y_train,y_train_knn)\n",
        "precision_score_test_knn = metrics.precision_score(y_test,y_test_knn)\n",
        "print(\"K-Nearest Neighbors : precision on training Data: {:.3f}\".format(precision_score_train_knn))\n",
        "print(\"K-Nearest Neighbors : precision on test Data: {:.3f}\".format(precision_score_test_knn))\n",
        "Result('KNN',acc_train_knn,acc_test_knn,f1_score_test_log,\n",
        "             recall_score_train_log,precision_score_train_log)"
      ],
      "metadata": {
        "colab": {
          "base_uri": "https://localhost:8080/"
        },
        "id": "vtUCnqCPuCjr",
        "outputId": "43455650-77a9-49a3-f0cc-6d4a980ccc9d"
      },
      "execution_count": 138,
      "outputs": [
        {
          "output_type": "stream",
          "name": "stdout",
          "text": [
            "K-Nearest Neighbors : Accuracy on training Data: 0.988\n",
            "K-Nearest Neighbors : Accuracy on test Data: 0.962\n",
            "\n",
            "K-Nearest Neighbors : f1_score on training Data: 0.989\n",
            "K-Nearest Neighbors : f1_score on test Data: 0.965\n",
            "\n",
            "K-Nearest Neighbors : Recall on training Data: 0.991\n",
            "K-Nearest Neighbors : Recall on test Data: 0.978\n",
            "\n",
            "K-Nearest Neighbors : precision on training Data: 0.988\n",
            "K-Nearest Neighbors : precision on test Data: 0.952\n"
          ]
        }
      ]
    },
    {
      "cell_type": "code",
      "source": [
        "print(metrics.classification_report(y_test, y_test_knn))"
      ],
      "metadata": {
        "colab": {
          "base_uri": "https://localhost:8080/"
        },
        "id": "Ct_ZM1hbvWlS",
        "outputId": "ad822389-cce8-46e4-e2b9-5f7ddf67f3ae"
      },
      "execution_count": 139,
      "outputs": [
        {
          "output_type": "stream",
          "name": "stdout",
          "text": [
            "              precision    recall  f1-score   support\n",
            "\n",
            "          -1       0.97      0.94      0.96       513\n",
            "           1       0.95      0.98      0.97       593\n",
            "\n",
            "    accuracy                           0.96      1106\n",
            "   macro avg       0.96      0.96      0.96      1106\n",
            "weighted avg       0.96      0.96      0.96      1106\n",
            "\n"
          ]
        }
      ]
    },
    {
      "cell_type": "code",
      "source": [
        "training_accuracy = []\n",
        "test_accuracy = []\n",
        "# try max_depth from 1 to 20\n",
        "depth = range(1,20)\n",
        "for n in depth:\n",
        "    knn = KNeighborsClassifier(n_neighbors=n)\n",
        "\n",
        "    knn.fit(x_train, y_train)\n",
        "    # record training set accuracy\n",
        "    training_accuracy.append(knn.score(x_train, y_train))\n",
        "    # record generalization accuracy\n",
        "    test_accuracy.append(knn.score(x_test, y_test))\n",
        "    \n",
        "\n",
        "#plotting the training & testing accuracy for n_estimators from 1 to 20\n",
        "plt.plot(depth, training_accuracy, label=\"training accuracy\")\n",
        "plt.plot(depth, test_accuracy, label=\"test accuracy\")\n",
        "plt.ylabel(\"Accuracy\")  \n",
        "plt.xlabel(\"n_neighbors\")\n",
        "plt.legend();"
      ],
      "metadata": {
        "colab": {
          "base_uri": "https://localhost:8080/",
          "height": 280
        },
        "id": "gqC65rhMvWn8",
        "outputId": "dab147b7-8d63-45cb-cf86-4ac40da8d380"
      },
      "execution_count": 140,
      "outputs": [
        {
          "output_type": "display_data",
          "data": {
            "text/plain": [
              "<Figure size 432x288 with 1 Axes>"
            ],
            "image/png": "[encoded data removed]"
          },
          "metadata": {
            "needs_background": "light"
          }
        }
      ]
    },
    {
      "cell_type": "code",
      "source": [
        "training_accuracy = []\n",
        "test_accuracy = []\n",
        "# try max_depth from 1 to 30\n",
        "depth = range(1,30)\n",
        "for n in depth:\n",
        "    rf_test = RandomForestClassifier(max_depth=n)\n",
        "\n",
        "    rf_test.fit(x_train, y_train)\n",
        "    # record training set accuracy\n",
        "    training_accuracy.append(rf_test.score(x_train, y_train))\n",
        "    # record generalization accuracy\n",
        "    test_accuracy.append(rf_test.score(x_test, y_test))\n",
        "    \n",
        "\n",
        "#plotting the training & testing accuracy for max_depth from 1 to 30\n",
        "plt.plot(depth, training_accuracy, label=\"training accuracy\")\n",
        "plt.plot(depth, test_accuracy, label=\"test accuracy\")\n",
        "plt.ylabel(\"Accuracy\")  \n",
        "plt.xlabel(\"max_depth\")\n",
        "plt.legend();"
      ],
      "metadata": {
        "colab": {
          "base_uri": "https://localhost:8080/",
          "height": 280
        },
        "id": "5YgcNXlxxICb",
        "outputId": "554f4659-cd11-445d-82a5-1952bd2e8e11"
      },
      "execution_count": 141,
      "outputs": [
        {
          "output_type": "display_data",
          "data": {
            "text/plain": [
              "<Figure size 432x288 with 1 Axes>"
            ],
            "image/png": "[encoded data removed]"
          },
          "metadata": {
            "needs_background": "light"
          }
        }
      ]
    },
    {
      "cell_type": "code",
      "source": [],
      "metadata": {
        "id": "_VaTsneivWrZ"
      },
      "execution_count": 141,
      "outputs": []
    },
    {
      "cell_type": "markdown",
      "metadata": {
        "id": "kiLiU8b81zKw"
      },
      "source": [
        "### **SVM**"
      ]
    },
    {
      "cell_type": "code",
      "execution_count": 142,
      "metadata": {
        "colab": {
          "base_uri": "https://localhost:8080/"
        },
        "id": "rHIE3pR8ttVg",
        "outputId": "1c4e96ab-15c8-4de9-8613-55427c3db784"
      },
      "outputs": [
        {
          "output_type": "execute_result",
          "data": {
            "text/plain": [
              "SVC()"
            ]
          },
          "metadata": {},
          "execution_count": 142
        }
      ],
      "source": [
        "from sklearn.svm import SVC\n",
        "svm = SVC()\n",
        "svm.fit(x_train, y_train)"
      ]
    },
    {
      "cell_type": "code",
      "execution_count": 143,
      "metadata": {
        "id": "v_KWKjir1Rul"
      },
      "outputs": [],
      "source": [
        "y_test_svm = svm.predict(x_test)\n",
        "y_train_svm = svm.predict(x_train)"
      ]
    },
    {
      "cell_type": "code",
      "execution_count": 144,
      "metadata": {
        "colab": {
          "base_uri": "https://localhost:8080/"
        },
        "id": "4XBykHTi1W0I",
        "outputId": "f97797e0-473b-46d7-84ae-8ae7063ab07b"
      },
      "outputs": [
        {
          "output_type": "stream",
          "name": "stdout",
          "text": [
            "Accuracy on training Data: 95.527\n",
            "Accuracy on test Data: 93.400\n",
            "SVM : f1_score on training Data: 0.960\n",
            "SVM : f1_score on test Data: 0.940\n",
            "\n",
            "SVM: Recall on training Data: 0.971\n",
            "SVM : Recall on test Data: 0.961\n",
            "\n",
            "SVM : precision on training Data: 0.950\n",
            "SVM : precision on test Data: 0.919\n"
          ]
        }
      ],
      "source": [
        "acc_train_svm = accuracy_score(y_train,y_train_svm)*100\n",
        "acc_test_svm = accuracy_score(y_test,y_test_svm)*100\n",
        "\n",
        "print(\"Accuracy on training Data: {:.3f}\".format(acc_train_svm))\n",
        "print(\"Accuracy on test Data: {:.3f}\".format(acc_test_svm))\n",
        "\n",
        "f1_score_train_log = metrics.f1_score(y_train,y_train_svm)\n",
        "f1_score_test_log = metrics.f1_score(y_test,y_test_svm)\n",
        "print(\"SVM : f1_score on training Data: {:.3f}\".format(f1_score_train_log))\n",
        "print(\"SVM : f1_score on test Data: {:.3f}\".format(f1_score_test_log))\n",
        "print()\n",
        "\n",
        "recall_score_train_log = metrics.recall_score(y_train,y_train_svm)\n",
        "recall_score_test_log = metrics.recall_score(y_test,y_test_svm)\n",
        "print(\"SVM: Recall on training Data: {:.3f}\".format(recall_score_train_log))\n",
        "print(\"SVM : Recall on test Data: {:.3f}\".format(recall_score_test_log))\n",
        "print()\n",
        "\n",
        "precision_score_train_log = metrics.precision_score(y_train,y_train_svm)\n",
        "precision_score_test_log = metrics.precision_score(y_test,y_test_svm)\n",
        "print(\"SVM : precision on training Data: {:.3f}\".format(precision_score_train_log))\n",
        "print(\"SVM : precision on test Data: {:.3f}\".format(precision_score_test_log))\n",
        "\n",
        "Result('SVM',acc_train_svm,acc_test_svm,f1_score_test_log,\n",
        "             recall_score_train_log,precision_score_train_log)"
      ]
    },
    {
      "cell_type": "code",
      "source": [
        "print(metrics.classification_report(y_test, y_test_svm))"
      ],
      "metadata": {
        "colab": {
          "base_uri": "https://localhost:8080/"
        },
        "id": "sH6Gcpw74FSQ",
        "outputId": "4d61ce52-d0cc-4c78-d3a8-ac3572e7b3a6"
      },
      "execution_count": 145,
      "outputs": [
        {
          "output_type": "stream",
          "name": "stdout",
          "text": [
            "              precision    recall  f1-score   support\n",
            "\n",
            "          -1       0.95      0.90      0.93       513\n",
            "           1       0.92      0.96      0.94       593\n",
            "\n",
            "    accuracy                           0.93      1106\n",
            "   macro avg       0.94      0.93      0.93      1106\n",
            "weighted avg       0.93      0.93      0.93      1106\n",
            "\n"
          ]
        }
      ]
    },
    {
      "cell_type": "markdown",
      "metadata": {
        "id": "b0FGpuaQq0Ep"
      },
      "source": [
        "### **XGBoost**"
      ]
    },
    {
      "cell_type": "code",
      "execution_count": 146,
      "metadata": {
        "colab": {
          "base_uri": "https://localhost:8080/"
        },
        "id": "PtLxHJAHq698",
        "outputId": "78453333-464f-41a9-d41e-2b6ac3537fa4"
      },
      "outputs": [
        {
          "output_type": "execute_result",
          "data": {
            "text/plain": [
              "XGBClassifier()"
            ]
          },
          "metadata": {},
          "execution_count": 146
        }
      ],
      "source": [
        "from xgboost import XGBClassifier\n",
        "xg = XGBClassifier()\n",
        "xg.fit(x_train,y_train)"
      ]
    },
    {
      "cell_type": "code",
      "execution_count": 147,
      "metadata": {
        "id": "cVV04EJlrfVH"
      },
      "outputs": [],
      "source": [
        "y_test_xg = xg.predict(x_test)\n",
        "y_train_xg = xg.predict(x_train)"
      ]
    },
    {
      "cell_type": "code",
      "execution_count": 148,
      "metadata": {
        "colab": {
          "base_uri": "https://localhost:8080/"
        },
        "id": "bUcOrMgTrqdi",
        "outputId": "8776b927-c1bc-4fb7-89b1-8dadd0ebebe6"
      },
      "outputs": [
        {
          "output_type": "stream",
          "name": "stdout",
          "text": [
            "Accuracy on training Data: 95.437\n",
            "Accuracy on test Data: 94.304\n",
            "Xg : f1_score on training Data: 0.960\n",
            "Xg : f1_score on test Data: 0.948\n",
            "\n",
            "Xg: Recall on training Data: 0.968\n",
            "Xg : Recall on test Data: 0.960\n",
            "\n",
            "Xg : precision on training Data: 0.951\n",
            "Xg : precision on test Data: 0.936\n"
          ]
        }
      ],
      "source": [
        "acc_train_xg = accuracy_score(y_train,y_train_xg) *100\n",
        "acc_test_xg = accuracy_score(y_test,y_test_xg)*100\n",
        "\n",
        "print(\"Accuracy on training Data: {:.3f}\".format(acc_train_xg))\n",
        "print(\"Accuracy on test Data: {:.3f}\".format(acc_test_xg))\n",
        "\n",
        "f1_score_train_log = metrics.f1_score(y_train,y_train_xg)\n",
        "f1_score_test_log = metrics.f1_score(y_test,y_test_xg)\n",
        "print(\"Xg : f1_score on training Data: {:.3f}\".format(f1_score_train_log))\n",
        "print(\"Xg : f1_score on test Data: {:.3f}\".format(f1_score_test_log))\n",
        "print()\n",
        "\n",
        "recall_score_train_log = metrics.recall_score(y_train,y_train_xg)\n",
        "recall_score_test_log = metrics.recall_score(y_test,y_test_xg)\n",
        "print(\"Xg: Recall on training Data: {:.3f}\".format(recall_score_train_log))\n",
        "print(\"Xg : Recall on test Data: {:.3f}\".format(recall_score_test_log))\n",
        "print()\n",
        "\n",
        "precision_score_train_log = metrics.precision_score(y_train,y_train_xg)\n",
        "precision_score_test_log = metrics.precision_score(y_test,y_test_xg)\n",
        "print(\"Xg : precision on training Data: {:.3f}\".format(precision_score_train_log))\n",
        "print(\"Xg : precision on test Data: {:.3f}\".format(precision_score_test_log))\n",
        "\n",
        "Result('XgbClassfier',acc_train_xg,acc_test_xg,f1_score_test_log,\n",
        "             recall_score_train_log,precision_score_train_log)"
      ]
    },
    {
      "cell_type": "code",
      "source": [
        "print(metrics.classification_report(y_test, y_test_xg))"
      ],
      "metadata": {
        "colab": {
          "base_uri": "https://localhost:8080/"
        },
        "id": "Ff4xGD4W4Irr",
        "outputId": "b9a0c3c1-b955-482b-f309-28178c2671bc"
      },
      "execution_count": 149,
      "outputs": [
        {
          "output_type": "stream",
          "name": "stdout",
          "text": [
            "              precision    recall  f1-score   support\n",
            "\n",
            "          -1       0.95      0.92      0.94       513\n",
            "           1       0.94      0.96      0.95       593\n",
            "\n",
            "    accuracy                           0.94      1106\n",
            "   macro avg       0.94      0.94      0.94      1106\n",
            "weighted avg       0.94      0.94      0.94      1106\n",
            "\n"
          ]
        }
      ]
    },
    {
      "cell_type": "markdown",
      "source": [
        "## Decision Tree"
      ],
      "metadata": {
        "id": "4Ueh5mgKA0D8"
      }
    },
    {
      "cell_type": "code",
      "source": [
        "from sklearn.tree import DecisionTreeClassifier\n",
        "dt = DecisionTreeClassifier(criterion='gini', max_depth=4, random_state=0)\n",
        "dt.fit(x_train, y_train)"
      ],
      "metadata": {
        "colab": {
          "base_uri": "https://localhost:8080/"
        },
        "id": "Q7HJu6p2BDhN",
        "outputId": "25afd3f0-b96f-4b6d-cf0e-4c4656b92d3c"
      },
      "execution_count": 150,
      "outputs": [
        {
          "output_type": "execute_result",
          "data": {
            "text/plain": [
              "DecisionTreeClassifier(max_depth=4, random_state=0)"
            ]
          },
          "metadata": {},
          "execution_count": 150
        }
      ]
    },
    {
      "cell_type": "code",
      "source": [
        "y_test_dt = dt.predict(x_test)\n",
        "y_train_dt = dt.predict(x_train)"
      ],
      "metadata": {
        "id": "UiIQIP8kBDav"
      },
      "execution_count": 151,
      "outputs": []
    },
    {
      "cell_type": "code",
      "source": [
        "acc_train_dt = accuracy_score(y_train,y_train_dt) *100\n",
        "acc_test_dt = accuracy_score(y_test,y_test_dt)*100\n",
        "\n",
        "print(\"Accuracy on training Data: {:.3f}\".format(acc_train_dt))\n",
        "print(\"Accuracy on test Data: {:.3f}\".format(acc_test_dt))\n",
        "\n",
        "f1_score_train_log = metrics.f1_score(y_train,y_train_dt)\n",
        "f1_score_test_log = metrics.f1_score(y_test,y_test_dt)\n",
        "print(\"Decision Tree : f1_score on training Data: {:.3f}\".format(f1_score_train_log))\n",
        "print(\"Decision Tree : f1_score on test Data: {:.3f}\".format(f1_score_test_log))\n",
        "print()\n",
        "\n",
        "recall_score_train_log = metrics.recall_score(y_train,y_train_dt)\n",
        "recall_score_test_log = metrics.recall_score(y_test,y_test_dt)\n",
        "print(\"Decision Tree : Recall on training Data: {:.3f}\".format(recall_score_train_log))\n",
        "print(\"Decision Tree : Recall on test Data: {:.3f}\".format(recall_score_test_log))\n",
        "print()\n",
        "\n",
        "precision_score_train_log = metrics.precision_score(y_train,y_train_dt)\n",
        "precision_score_test_log = metrics.precision_score(y_test,y_test_dt)\n",
        "print(\"Decision Tree : precision on training Data: {:.3f}\".format(precision_score_train_log))\n",
        "print(\"Decision Tree : precision on test Data: {:.3f}\".format(precision_score_test_log))\n",
        "\n",
        "Result('Decision Tree',acc_train_dt,acc_test_dt,f1_score_test_log,\n",
        "             recall_score_train_log,precision_score_train_log)"
      ],
      "metadata": {
        "colab": {
          "base_uri": "https://localhost:8080/"
        },
        "id": "mj91wwmCBDdy",
        "outputId": "672c8580-2bb8-4a0b-8c63-5a05dbac2ca9"
      },
      "execution_count": 152,
      "outputs": [
        {
          "output_type": "stream",
          "name": "stdout",
          "text": [
            "Accuracy on training Data: 91.848\n",
            "Accuracy on test Data: 91.230\n",
            "Decision Tree : f1_score on training Data: 0.927\n",
            "Decision Tree : f1_score on test Data: 0.920\n",
            "\n",
            "Decision Tree : Recall on training Data: 0.929\n",
            "Decision Tree : Recall on test Data: 0.936\n",
            "\n",
            "Decision Tree : precision on training Data: 0.926\n",
            "Decision Tree : precision on test Data: 0.904\n"
          ]
        }
      ]
    },
    {
      "cell_type": "code",
      "source": [
        "print(metrics.classification_report(y_test, y_test_dt))"
      ],
      "metadata": {
        "colab": {
          "base_uri": "https://localhost:8080/"
        },
        "id": "rpi9pU7y4P8G",
        "outputId": "7f8e4f53-39ad-4ca0-b217-476628a8bf99"
      },
      "execution_count": 153,
      "outputs": [
        {
          "output_type": "stream",
          "name": "stdout",
          "text": [
            "              precision    recall  f1-score   support\n",
            "\n",
            "          -1       0.92      0.88      0.90       513\n",
            "           1       0.90      0.94      0.92       593\n",
            "\n",
            "    accuracy                           0.91      1106\n",
            "   macro avg       0.91      0.91      0.91      1106\n",
            "weighted avg       0.91      0.91      0.91      1106\n",
            "\n"
          ]
        }
      ]
    },
    {
      "cell_type": "markdown",
      "metadata": {
        "id": "5mTvwIN0qFQW"
      },
      "source": [
        "# **6.Comparison of models**"
      ]
    },
    {
      "cell_type": "code",
      "execution_count": 154,
      "metadata": {
        "colab": {
          "base_uri": "https://localhost:8080/",
          "height": 457
        },
        "id": "S5ROzEsvsK5b",
        "outputId": "ec9da722-b508-4a92-cf34-a6415a303ac3"
      },
      "outputs": [
        {
          "output_type": "execute_result",
          "data": {
            "text/plain": [
              "                  ML Model  Train Accuracy  Test Accuracy  f1-score    Recall  \\\n",
              "0     LogisticRegression()       93.064630      90.958409  0.917628  0.947520   \n",
              "1   RandomForestClassifier       99.014976      96.473779  0.967688  0.993889   \n",
              "2                      svm        0.988240       0.962025  0.967688  0.993889   \n",
              "3                      svm       95.527189      93.399638  0.939819  0.971244   \n",
              "4             XgbClassfier       95.436727      94.303798  0.947544  0.968188   \n",
              "5            Decision Tree       91.848427      91.229656  0.919636  0.929008   \n",
              "6                      KNN        0.988240       0.962025  0.919636  0.929008   \n",
              "7      Logistic Regression       93.064630      90.958409  0.917628  0.947520   \n",
              "8   RandomForestClassifier       99.014976      96.835443  0.971051  0.994788   \n",
              "9                      KNN        0.988240       0.962025  0.971051  0.994788   \n",
              "10                     SVM       95.527189      93.399638  0.939819  0.971244   \n",
              "11            XgbClassfier       95.436727      94.303798  0.947544  0.968188   \n",
              "12           Decision Tree       91.848427      91.229656  0.919636  0.929008   \n",
              "\n",
              "    Precision  \n",
              "0    0.929806  \n",
              "1    0.988559  \n",
              "2    0.988559  \n",
              "3    0.949903  \n",
              "4    0.951095  \n",
              "5    0.925515  \n",
              "6    0.925515  \n",
              "7    0.929806  \n",
              "8    0.987687  \n",
              "9    0.987687  \n",
              "10   0.949903  \n",
              "11   0.951095  \n",
              "12   0.925515  "
            ],
            "text/html": [
              "\n",
              "  <div id=\"df-785cb3e5-465d-4863-8774-3bda8834cf4a\">\n",
              "    <div class=\"colab-df-container\">\n",
              "      <div>\n",
              "<style scoped>\n",
              "    .dataframe tbody tr th:only-of-type {\n",
              "        vertical-align: middle;\n",
              "    }\n",
              "\n",
              "    .dataframe tbody tr th {\n",
              "        vertical-align: top;\n",
              "    }\n",
              "\n",
              "    .dataframe thead th {\n",
              "        text-align: right;\n",
              "    }\n",
              "</style>\n",
              "<table border=\"1\" class=\"dataframe\">\n",
              "  <thead>\n",
              "    <tr style=\"text-align: right;\">\n",
              "      <th></th>\n",
              "      <th>ML Model</th>\n",
              "      <th>Train Accuracy</th>\n",
              "      <th>Test Accuracy</th>\n",
              "      <th>f1-score</th>\n",
              "      <th>Recall</th>\n",
              "      <th>Precision</th>\n",
              "    </tr>\n",
              "  </thead>\n",
              "  <tbody>\n",
              "    <tr>\n",
              "      <th>0</th>\n",
              "      <td>LogisticRegression()</td>\n",
              "      <td>93.064630</td>\n",
              "      <td>90.958409</td>\n",
              "      <td>0.917628</td>\n",
              "      <td>0.947520</td>\n",
              "      <td>0.929806</td>\n",
              "    </tr>\n",
              "    <tr>\n",
              "      <th>1</th>\n",
              "      <td>RandomForestClassifier</td>\n",
              "      <td>99.014976</td>\n",
              "      <td>96.473779</td>\n",
              "      <td>0.967688</td>\n",
              "      <td>0.993889</td>\n",
              "      <td>0.988559</td>\n",
              "    </tr>\n",
              "    <tr>\n",
              "      <th>2</th>\n",
              "      <td>svm</td>\n",
              "      <td>0.988240</td>\n",
              "      <td>0.962025</td>\n",
              "      <td>0.967688</td>\n",
              "      <td>0.993889</td>\n",
              "      <td>0.988559</td>\n",
              "    </tr>\n",
              "    <tr>\n",
              "      <th>3</th>\n",
              "      <td>svm</td>\n",
              "      <td>95.527189</td>\n",
              "      <td>93.399638</td>\n",
              "      <td>0.939819</td>\n",
              "      <td>0.971244</td>\n",
              "      <td>0.949903</td>\n",
              "    </tr>\n",
              "    <tr>\n",
              "      <th>4</th>\n",
              "      <td>XgbClassfier</td>\n",
              "      <td>95.436727</td>\n",
              "      <td>94.303798</td>\n",
              "      <td>0.947544</td>\n",
              "      <td>0.968188</td>\n",
              "      <td>0.951095</td>\n",
              "    </tr>\n",
              "    <tr>\n",
              "      <th>5</th>\n",
              "      <td>Decision Tree</td>\n",
              "      <td>91.848427</td>\n",
              "      <td>91.229656</td>\n",
              "      <td>0.919636</td>\n",
              "      <td>0.929008</td>\n",
              "      <td>0.925515</td>\n",
              "    </tr>\n",
              "    <tr>\n",
              "      <th>6</th>\n",
              "      <td>KNN</td>\n",
              "      <td>0.988240</td>\n",
              "      <td>0.962025</td>\n",
              "      <td>0.919636</td>\n",
              "      <td>0.929008</td>\n",
              "      <td>0.925515</td>\n",
              "    </tr>\n",
              "    <tr>\n",
              "      <th>7</th>\n",
              "      <td>Logistic Regression</td>\n",
              "      <td>93.064630</td>\n",
              "      <td>90.958409</td>\n",
              "      <td>0.917628</td>\n",
              "      <td>0.947520</td>\n",
              "      <td>0.929806</td>\n",
              "    </tr>\n",
              "    <tr>\n",
              "      <th>8</th>\n",
              "      <td>RandomForestClassifier</td>\n",
              "      <td>99.014976</td>\n",
              "      <td>96.835443</td>\n",
              "      <td>0.971051</td>\n",
              "      <td>0.994788</td>\n",
              "      <td>0.987687</td>\n",
              "    </tr>\n",
              "    <tr>\n",
              "      <th>9</th>\n",
              "      <td>KNN</td>\n",
              "      <td>0.988240</td>\n",
              "      <td>0.962025</td>\n",
              "      <td>0.971051</td>\n",
              "      <td>0.994788</td>\n",
              "      <td>0.987687</td>\n",
              "    </tr>\n",
              "    <tr>\n",
              "      <th>10</th>\n",
              "      <td>SVM</td>\n",
              "      <td>95.527189</td>\n",
              "      <td>93.399638</td>\n",
              "      <td>0.939819</td>\n",
              "      <td>0.971244</td>\n",
              "      <td>0.949903</td>\n",
              "    </tr>\n",
              "    <tr>\n",
              "      <th>11</th>\n",
              "      <td>XgbClassfier</td>\n",
              "      <td>95.436727</td>\n",
              "      <td>94.303798</td>\n",
              "      <td>0.947544</td>\n",
              "      <td>0.968188</td>\n",
              "      <td>0.951095</td>\n",
              "    </tr>\n",
              "    <tr>\n",
              "      <th>12</th>\n",
              "      <td>Decision Tree</td>\n",
              "      <td>91.848427</td>\n",
              "      <td>91.229656</td>\n",
              "      <td>0.919636</td>\n",
              "      <td>0.929008</td>\n",
              "      <td>0.925515</td>\n",
              "    </tr>\n",
              "  </tbody>\n",
              "</table>\n",
              "</div>\n",
              "      <button class=\"colab-df-convert\" onclick=\"convertToInteractive('df-785cb3e5-465d-4863-8774-3bda8834cf4a')\"\n",
              "              title=\"Convert this dataframe to an interactive table.\"\n",
              "              style=\"display:none;\">\n",
              "        \n",
              "  <svg xmlns=\"http://www.w3.org/2000/svg\" height=\"24px\"viewBox=\"0 0 24 24\"\n",
              "       width=\"24px\">\n",
              "    <path d=\"M0 0h24v24H0V0z\" fill=\"none\"/>\n",
              "    <path d=\"M18.56 5.44l.94 2.06.94-2.06 2.06-.94-2.06-.94-.94-2.06-.94 2.06-2.06.94zm-11 1L8.5 8.5l.94-2.06 2.06-.94-2.06-.94L8.5 2.5l-.94 2.06-2.06.94zm10 10l.94 2.06.94-2.06 2.06-.94-2.06-.94-.94-2.06-.94 2.06-2.06.94z\"/><path d=\"M17.41 7.96l-1.37-1.37c-.4-.4-.92-.59-1.43-.59-.52 0-1.04.2-1.43.59L10.3 9.45l-7.72 7.72c-.78.78-.78 2.05 0 2.83L4 21.41c.39.39.9.59 1.41.59.51 0 1.02-.2 1.41-.59l7.78-7.78 2.81-2.81c.8-.78.8-2.07 0-2.86zM5.41 20L4 18.59l7.72-7.72 1.47 1.35L5.41 20z\"/>\n",
              "  </svg>\n",
              "      </button>\n",
              "      \n",
              "  <style>\n",
              "    .colab-df-container {\n",
              "      display:flex;\n",
              "      flex-wrap:wrap;\n",
              "      gap: 12px;\n",
              "    }\n",
              "\n",
              "    .colab-df-convert {\n",
              "      background-color: #E8F0FE;\n",
              "      border: none;\n",
              "      border-radius: 50%;\n",
              "      cursor: pointer;\n",
              "      display: none;\n",
              "      fill: #1967D2;\n",
              "      height: 32px;\n",
              "      padding: 0 0 0 0;\n",
              "      width: 32px;\n",
              "    }\n",
              "\n",
              "    .colab-df-convert:hover {\n",
              "      background-color: #E2EBFA;\n",
              "      box-shadow: 0px 1px 2px rgba(60, 64, 67, 0.3), 0px 1px 3px 1px rgba(60, 64, 67, 0.15);\n",
              "      fill: #174EA6;\n",
              "    }\n",
              "\n",
              "    [theme=dark] .colab-df-convert {\n",
              "      background-color: #3B4455;\n",
              "      fill: #D2E3FC;\n",
              "    }\n",
              "\n",
              "    [theme=dark] .colab-df-convert:hover {\n",
              "      background-color: #434B5C;\n",
              "      box-shadow: 0px 1px 3px 1px rgba(0, 0, 0, 0.15);\n",
              "      filter: drop-shadow(0px 1px 2px rgba(0, 0, 0, 0.3));\n",
              "      fill: #FFFFFF;\n",
              "    }\n",
              "  </style>\n",
              "\n",
              "      <script>\n",
              "        const buttonEl =\n",
              "          document.querySelector('#df-785cb3e5-465d-4863-8774-3bda8834cf4a button.colab-df-convert');\n",
              "        buttonEl.style.display =\n",
              "          google.colab.kernel.accessAllowed ? 'block' : 'none';\n",
              "\n",
              "        async function convertToInteractive(key) {\n",
              "          const element = document.querySelector('#df-785cb3e5-465d-4863-8774-3bda8834cf4a');\n",
              "          const dataTable =\n",
              "            await google.colab.kernel.invokeFunction('convertToInteractive',\n",
              "                                                     [key], {});\n",
              "          if (!dataTable) return;\n",
              "\n",
              "          const docLinkHtml = 'Like what you see? Visit the ' +\n",
              "            '<a target=\"_blank\" href=https://colab.research.google.com/notebooks/data_table.ipynb>data table notebook</a>'\n",
              "            + ' to learn more about interactive tables.';\n",
              "          element.innerHTML = '';\n",
              "          dataTable['output_type'] = 'display_data';\n",
              "          await google.colab.output.renderOutput(dataTable, element);\n",
              "          const docLink = document.createElement('div');\n",
              "          docLink.innerHTML = docLinkHtml;\n",
              "          element.appendChild(docLink);\n",
              "        }\n",
              "      </script>\n",
              "    </div>\n",
              "  </div>\n",
              "  "
            ]
          },
          "metadata": {},
          "execution_count": 154
        }
      ],
      "source": [
        "res =pd.DataFrame({'ML Model':Model,'Train Accuracy':train,'Test Accuracy':test,'f1-score':f1_score ,'Recall':recall,'Precision':precision})\n",
        "res"
      ]
    },
    {
      "cell_type": "code",
      "execution_count": 155,
      "metadata": {
        "colab": {
          "base_uri": "https://localhost:8080/",
          "height": 457
        },
        "id": "dgviwAAVukpr",
        "outputId": "aaecd6ba-19b7-4241-f667-1fc8ffcfb139"
      },
      "outputs": [
        {
          "output_type": "execute_result",
          "data": {
            "text/plain": [
              "                  ML Model  Train Accuracy  Test Accuracy  f1-score    Recall  \\\n",
              "8   RandomForestClassifier       99.014976      96.835443  0.971051  0.994788   \n",
              "1   RandomForestClassifier       99.014976      96.473779  0.967688  0.993889   \n",
              "4             XgbClassfier       95.436727      94.303798  0.947544  0.968188   \n",
              "11            XgbClassfier       95.436727      94.303798  0.947544  0.968188   \n",
              "3                      svm       95.527189      93.399638  0.939819  0.971244   \n",
              "10                     SVM       95.527189      93.399638  0.939819  0.971244   \n",
              "5            Decision Tree       91.848427      91.229656  0.919636  0.929008   \n",
              "12           Decision Tree       91.848427      91.229656  0.919636  0.929008   \n",
              "0     LogisticRegression()       93.064630      90.958409  0.917628  0.947520   \n",
              "7      Logistic Regression       93.064630      90.958409  0.917628  0.947520   \n",
              "2                      svm        0.988240       0.962025  0.967688  0.993889   \n",
              "6                      KNN        0.988240       0.962025  0.919636  0.929008   \n",
              "9                      KNN        0.988240       0.962025  0.971051  0.994788   \n",
              "\n",
              "    Precision  \n",
              "8    0.987687  \n",
              "1    0.988559  \n",
              "4    0.951095  \n",
              "11   0.951095  \n",
              "3    0.949903  \n",
              "10   0.949903  \n",
              "5    0.925515  \n",
              "12   0.925515  \n",
              "0    0.929806  \n",
              "7    0.929806  \n",
              "2    0.988559  \n",
              "6    0.925515  \n",
              "9    0.987687  "
            ],
            "text/html": [
              "\n",
              "  <div id=\"df-0c778f7f-93c1-4ee2-9ac1-84e6150a8dc7\">\n",
              "    <div class=\"colab-df-container\">\n",
              "      <div>\n",
              "<style scoped>\n",
              "    .dataframe tbody tr th:only-of-type {\n",
              "        vertical-align: middle;\n",
              "    }\n",
              "\n",
              "    .dataframe tbody tr th {\n",
              "        vertical-align: top;\n",
              "    }\n",
              "\n",
              "    .dataframe thead th {\n",
              "        text-align: right;\n",
              "    }\n",
              "</style>\n",
              "<table border=\"1\" class=\"dataframe\">\n",
              "  <thead>\n",
              "    <tr style=\"text-align: right;\">\n",
              "      <th></th>\n",
              "      <th>ML Model</th>\n",
              "      <th>Train Accuracy</th>\n",
              "      <th>Test Accuracy</th>\n",
              "      <th>f1-score</th>\n",
              "      <th>Recall</th>\n",
              "      <th>Precision</th>\n",
              "    </tr>\n",
              "  </thead>\n",
              "  <tbody>\n",
              "    <tr>\n",
              "      <th>8</th>\n",
              "      <td>RandomForestClassifier</td>\n",
              "      <td>99.014976</td>\n",
              "      <td>96.835443</td>\n",
              "      <td>0.971051</td>\n",
              "      <td>0.994788</td>\n",
              "      <td>0.987687</td>\n",
              "    </tr>\n",
              "    <tr>\n",
              "      <th>1</th>\n",
              "      <td>RandomForestClassifier</td>\n",
              "      <td>99.014976</td>\n",
              "      <td>96.473779</td>\n",
              "      <td>0.967688</td>\n",
              "      <td>0.993889</td>\n",
              "      <td>0.988559</td>\n",
              "    </tr>\n",
              "    <tr>\n",
              "      <th>4</th>\n",
              "      <td>XgbClassfier</td>\n",
              "      <td>95.436727</td>\n",
              "      <td>94.303798</td>\n",
              "      <td>0.947544</td>\n",
              "      <td>0.968188</td>\n",
              "      <td>0.951095</td>\n",
              "    </tr>\n",
              "    <tr>\n",
              "      <th>11</th>\n",
              "      <td>XgbClassfier</td>\n",
              "      <td>95.436727</td>\n",
              "      <td>94.303798</td>\n",
              "      <td>0.947544</td>\n",
              "      <td>0.968188</td>\n",
              "      <td>0.951095</td>\n",
              "    </tr>\n",
              "    <tr>\n",
              "      <th>3</th>\n",
              "      <td>svm</td>\n",
              "      <td>95.527189</td>\n",
              "      <td>93.399638</td>\n",
              "      <td>0.939819</td>\n",
              "      <td>0.971244</td>\n",
              "      <td>0.949903</td>\n",
              "    </tr>\n",
              "    <tr>\n",
              "      <th>10</th>\n",
              "      <td>SVM</td>\n",
              "      <td>95.527189</td>\n",
              "      <td>93.399638</td>\n",
              "      <td>0.939819</td>\n",
              "      <td>0.971244</td>\n",
              "      <td>0.949903</td>\n",
              "    </tr>\n",
              "    <tr>\n",
              "      <th>5</th>\n",
              "      <td>Decision Tree</td>\n",
              "      <td>91.848427</td>\n",
              "      <td>91.229656</td>\n",
              "      <td>0.919636</td>\n",
              "      <td>0.929008</td>\n",
              "      <td>0.925515</td>\n",
              "    </tr>\n",
              "    <tr>\n",
              "      <th>12</th>\n",
              "      <td>Decision Tree</td>\n",
              "      <td>91.848427</td>\n",
              "      <td>91.229656</td>\n",
              "      <td>0.919636</td>\n",
              "      <td>0.929008</td>\n",
              "      <td>0.925515</td>\n",
              "    </tr>\n",
              "    <tr>\n",
              "      <th>0</th>\n",
              "      <td>LogisticRegression()</td>\n",
              "      <td>93.064630</td>\n",
              "      <td>90.958409</td>\n",
              "      <td>0.917628</td>\n",
              "      <td>0.947520</td>\n",
              "      <td>0.929806</td>\n",
              "    </tr>\n",
              "    <tr>\n",
              "      <th>7</th>\n",
              "      <td>Logistic Regression</td>\n",
              "      <td>93.064630</td>\n",
              "      <td>90.958409</td>\n",
              "      <td>0.917628</td>\n",
              "      <td>0.947520</td>\n",
              "      <td>0.929806</td>\n",
              "    </tr>\n",
              "    <tr>\n",
              "      <th>2</th>\n",
              "      <td>svm</td>\n",
              "      <td>0.988240</td>\n",
              "      <td>0.962025</td>\n",
              "      <td>0.967688</td>\n",
              "      <td>0.993889</td>\n",
              "      <td>0.988559</td>\n",
              "    </tr>\n",
              "    <tr>\n",
              "      <th>6</th>\n",
              "      <td>KNN</td>\n",
              "      <td>0.988240</td>\n",
              "      <td>0.962025</td>\n",
              "      <td>0.919636</td>\n",
              "      <td>0.929008</td>\n",
              "      <td>0.925515</td>\n",
              "    </tr>\n",
              "    <tr>\n",
              "      <th>9</th>\n",
              "      <td>KNN</td>\n",
              "      <td>0.988240</td>\n",
              "      <td>0.962025</td>\n",
              "      <td>0.971051</td>\n",
              "      <td>0.994788</td>\n",
              "      <td>0.987687</td>\n",
              "    </tr>\n",
              "  </tbody>\n",
              "</table>\n",
              "</div>\n",
              "      <button class=\"colab-df-convert\" onclick=\"convertToInteractive('df-0c778f7f-93c1-4ee2-9ac1-84e6150a8dc7')\"\n",
              "              title=\"Convert this dataframe to an interactive table.\"\n",
              "              style=\"display:none;\">\n",
              "        \n",
              "  <svg xmlns=\"http://www.w3.org/2000/svg\" height=\"24px\"viewBox=\"0 0 24 24\"\n",
              "       width=\"24px\">\n",
              "    <path d=\"M0 0h24v24H0V0z\" fill=\"none\"/>\n",
              "    <path d=\"M18.56 5.44l.94 2.06.94-2.06 2.06-.94-2.06-.94-.94-2.06-.94 2.06-2.06.94zm-11 1L8.5 8.5l.94-2.06 2.06-.94-2.06-.94L8.5 2.5l-.94 2.06-2.06.94zm10 10l.94 2.06.94-2.06 2.06-.94-2.06-.94-.94-2.06-.94 2.06-2.06.94z\"/><path d=\"M17.41 7.96l-1.37-1.37c-.4-.4-.92-.59-1.43-.59-.52 0-1.04.2-1.43.59L10.3 9.45l-7.72 7.72c-.78.78-.78 2.05 0 2.83L4 21.41c.39.39.9.59 1.41.59.51 0 1.02-.2 1.41-.59l7.78-7.78 2.81-2.81c.8-.78.8-2.07 0-2.86zM5.41 20L4 18.59l7.72-7.72 1.47 1.35L5.41 20z\"/>\n",
              "  </svg>\n",
              "      </button>\n",
              "      \n",
              "  <style>\n",
              "    .colab-df-container {\n",
              "      display:flex;\n",
              "      flex-wrap:wrap;\n",
              "      gap: 12px;\n",
              "    }\n",
              "\n",
              "    .colab-df-convert {\n",
              "      background-color: #E8F0FE;\n",
              "      border: none;\n",
              "      border-radius: 50%;\n",
              "      cursor: pointer;\n",
              "      display: none;\n",
              "      fill: #1967D2;\n",
              "      height: 32px;\n",
              "      padding: 0 0 0 0;\n",
              "      width: 32px;\n",
              "    }\n",
              "\n",
              "    .colab-df-convert:hover {\n",
              "      background-color: #E2EBFA;\n",
              "      box-shadow: 0px 1px 2px rgba(60, 64, 67, 0.3), 0px 1px 3px 1px rgba(60, 64, 67, 0.15);\n",
              "      fill: #174EA6;\n",
              "    }\n",
              "\n",
              "    [theme=dark] .colab-df-convert {\n",
              "      background-color: #3B4455;\n",
              "      fill: #D2E3FC;\n",
              "    }\n",
              "\n",
              "    [theme=dark] .colab-df-convert:hover {\n",
              "      background-color: #434B5C;\n",
              "      box-shadow: 0px 1px 3px 1px rgba(0, 0, 0, 0.15);\n",
              "      filter: drop-shadow(0px 1px 2px rgba(0, 0, 0, 0.3));\n",
              "      fill: #FFFFFF;\n",
              "    }\n",
              "  </style>\n",
              "\n",
              "      <script>\n",
              "        const buttonEl =\n",
              "          document.querySelector('#df-0c778f7f-93c1-4ee2-9ac1-84e6150a8dc7 button.colab-df-convert');\n",
              "        buttonEl.style.display =\n",
              "          google.colab.kernel.accessAllowed ? 'block' : 'none';\n",
              "\n",
              "        async function convertToInteractive(key) {\n",
              "          const element = document.querySelector('#df-0c778f7f-93c1-4ee2-9ac1-84e6150a8dc7');\n",
              "          const dataTable =\n",
              "            await google.colab.kernel.invokeFunction('convertToInteractive',\n",
              "                                                     [key], {});\n",
              "          if (!dataTable) return;\n",
              "\n",
              "          const docLinkHtml = 'Like what you see? Visit the ' +\n",
              "            '<a target=\"_blank\" href=https://colab.research.google.com/notebooks/data_table.ipynb>data table notebook</a>'\n",
              "            + ' to learn more about interactive tables.';\n",
              "          element.innerHTML = '';\n",
              "          dataTable['output_type'] = 'display_data';\n",
              "          await google.colab.output.renderOutput(dataTable, element);\n",
              "          const docLink = document.createElement('div');\n",
              "          docLink.innerHTML = docLinkHtml;\n",
              "          element.appendChild(docLink);\n",
              "        }\n",
              "      </script>\n",
              "    </div>\n",
              "  </div>\n",
              "  "
            ]
          },
          "metadata": {},
          "execution_count": 155
        }
      ],
      "source": [
        "res.sort_values(by=['Test Accuracy', 'Train Accuracy','f1-score','Recall','Precision'], ascending=False)"
      ]
    },
    {
      "cell_type": "code",
      "execution_count": 122,
      "metadata": {
        "id": "w7ZGZmZwhH2C"
      },
      "outputs": [],
      "source": [
        "pickle.dump(lr,open('Phishing_Website.pkl','wb'))"
      ]
    },
    {
      "cell_type": "code",
      "source": [
        "pickle.dump(dt,open('Phishing_Website_with_dt.pkl','wb'))"
      ],
      "metadata": {
        "id": "y3pMyo7eu-Cg"
      },
      "execution_count": null,
      "outputs": []
    },
    {
      "cell_type": "markdown",
      "source": [
        "Random Forest works great as it yields the highest accuracy."
      ],
      "metadata": {
        "id": "xRBHg4S1DgFK"
      }
    },
    {
      "cell_type": "code",
      "source": [],
      "metadata": {
        "id": "9McxtZM6DpMF"
      },
      "execution_count": null,
      "outputs": []
    }
  ],
  "metadata": {
    "colab": {
      "provenance": []
    },
    "kernelspec": {
      "display_name": "Python 3 (ipykernel)",
      "language": "python",
      "name": "python3"
    },
    "language_info": {
      "codemirror_mode": {
        "name": "ipython",
        "version": 3
      },
      "file_extension": ".py",
      "mimetype": "text/x-python",
      "name": "python",
      "nbconvert_exporter": "python",
      "pygments_lexer": "ipython3",
      "version": "3.9.12"
    }
  },
  "nbformat": 4,
  "nbformat_minor": 0
}